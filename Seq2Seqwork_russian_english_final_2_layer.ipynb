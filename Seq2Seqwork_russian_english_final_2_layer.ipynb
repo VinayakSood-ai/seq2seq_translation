{
  "cells": [
    {
      "cell_type": "code",
      "execution_count": null,
      "metadata": {
        "colab": {
          "base_uri": "https://localhost:8080/"
        },
        "id": "Z7HwFgqLY26Y",
        "outputId": "4ae390ee-d82b-4e95-ab9c-9467e3ac4787"
      },
      "outputs": [
        {
          "name": "stdout",
          "output_type": "stream",
          "text": [
            "Collecting ru-core-news-sm==3.7.0\n",
            "  Downloading https://github.com/explosion/spacy-models/releases/download/ru_core_news_sm-3.7.0/ru_core_news_sm-3.7.0-py3-none-any.whl (15.3 MB)\n",
            "\u001b[2K     \u001b[90m━━━━━━━━━━━━━━━━━━━━━━━━━━━━━━━━━━━━━━━━\u001b[0m \u001b[32m15.3/15.3 MB\u001b[0m \u001b[31m21.1 MB/s\u001b[0m eta \u001b[36m0:00:00\u001b[0m\n",
            "\u001b[?25hRequirement already satisfied: spacy<3.8.0,>=3.7.0 in /usr/local/lib/python3.10/dist-packages (from ru-core-news-sm==3.7.0) (3.7.4)\n",
            "Collecting pymorphy3>=1.0.0 (from ru-core-news-sm==3.7.0)\n",
            "  Downloading pymorphy3-2.0.1-py3-none-any.whl (53 kB)\n",
            "\u001b[2K     \u001b[90m━━━━━━━━━━━━━━━━━━━━━━━━━━━━━━━━━━━━━━━━\u001b[0m \u001b[32m53.2/53.2 kB\u001b[0m \u001b[31m724.1 kB/s\u001b[0m eta \u001b[36m0:00:00\u001b[0m\n",
            "\u001b[?25hCollecting dawg-python>=0.7.1 (from pymorphy3>=1.0.0->ru-core-news-sm==3.7.0)\n",
            "  Downloading DAWG_Python-0.7.2-py2.py3-none-any.whl (11 kB)\n",
            "Collecting pymorphy3-dicts-ru (from pymorphy3>=1.0.0->ru-core-news-sm==3.7.0)\n",
            "  Downloading pymorphy3_dicts_ru-2.4.417150.4580142-py2.py3-none-any.whl (8.4 MB)\n",
            "\u001b[2K     \u001b[90m━━━━━━━━━━━━━━━━━━━━━━━━━━━━━━━━━━━━━━━━\u001b[0m \u001b[32m8.4/8.4 MB\u001b[0m \u001b[31m23.6 MB/s\u001b[0m eta \u001b[36m0:00:00\u001b[0m\n",
            "\u001b[?25hRequirement already satisfied: spacy-legacy<3.1.0,>=3.0.11 in /usr/local/lib/python3.10/dist-packages (from spacy<3.8.0,>=3.7.0->ru-core-news-sm==3.7.0) (3.0.12)\n",
            "Requirement already satisfied: spacy-loggers<2.0.0,>=1.0.0 in /usr/local/lib/python3.10/dist-packages (from spacy<3.8.0,>=3.7.0->ru-core-news-sm==3.7.0) (1.0.5)\n",
            "Requirement already satisfied: murmurhash<1.1.0,>=0.28.0 in /usr/local/lib/python3.10/dist-packages (from spacy<3.8.0,>=3.7.0->ru-core-news-sm==3.7.0) (1.0.10)\n",
            "Requirement already satisfied: cymem<2.1.0,>=2.0.2 in /usr/local/lib/python3.10/dist-packages (from spacy<3.8.0,>=3.7.0->ru-core-news-sm==3.7.0) (2.0.8)\n",
            "Requirement already satisfied: preshed<3.1.0,>=3.0.2 in /usr/local/lib/python3.10/dist-packages (from spacy<3.8.0,>=3.7.0->ru-core-news-sm==3.7.0) (3.0.9)\n",
            "Requirement already satisfied: thinc<8.3.0,>=8.2.2 in /usr/local/lib/python3.10/dist-packages (from spacy<3.8.0,>=3.7.0->ru-core-news-sm==3.7.0) (8.2.3)\n",
            "Requirement already satisfied: wasabi<1.2.0,>=0.9.1 in /usr/local/lib/python3.10/dist-packages (from spacy<3.8.0,>=3.7.0->ru-core-news-sm==3.7.0) (1.1.2)\n",
            "Requirement already satisfied: srsly<3.0.0,>=2.4.3 in /usr/local/lib/python3.10/dist-packages (from spacy<3.8.0,>=3.7.0->ru-core-news-sm==3.7.0) (2.4.8)\n",
            "Requirement already satisfied: catalogue<2.1.0,>=2.0.6 in /usr/local/lib/python3.10/dist-packages (from spacy<3.8.0,>=3.7.0->ru-core-news-sm==3.7.0) (2.0.10)\n",
            "Requirement already satisfied: weasel<0.4.0,>=0.1.0 in /usr/local/lib/python3.10/dist-packages (from spacy<3.8.0,>=3.7.0->ru-core-news-sm==3.7.0) (0.3.4)\n",
            "Requirement already satisfied: typer<0.10.0,>=0.3.0 in /usr/local/lib/python3.10/dist-packages (from spacy<3.8.0,>=3.7.0->ru-core-news-sm==3.7.0) (0.9.4)\n",
            "Requirement already satisfied: smart-open<7.0.0,>=5.2.1 in /usr/local/lib/python3.10/dist-packages (from spacy<3.8.0,>=3.7.0->ru-core-news-sm==3.7.0) (6.4.0)\n",
            "Requirement already satisfied: tqdm<5.0.0,>=4.38.0 in /usr/local/lib/python3.10/dist-packages (from spacy<3.8.0,>=3.7.0->ru-core-news-sm==3.7.0) (4.66.2)\n",
            "Requirement already satisfied: requests<3.0.0,>=2.13.0 in /usr/local/lib/python3.10/dist-packages (from spacy<3.8.0,>=3.7.0->ru-core-news-sm==3.7.0) (2.31.0)\n",
            "Requirement already satisfied: pydantic!=1.8,!=1.8.1,<3.0.0,>=1.7.4 in /usr/local/lib/python3.10/dist-packages (from spacy<3.8.0,>=3.7.0->ru-core-news-sm==3.7.0) (2.7.1)\n",
            "Requirement already satisfied: jinja2 in /usr/local/lib/python3.10/dist-packages (from spacy<3.8.0,>=3.7.0->ru-core-news-sm==3.7.0) (3.1.3)\n",
            "Requirement already satisfied: setuptools in /usr/local/lib/python3.10/dist-packages (from spacy<3.8.0,>=3.7.0->ru-core-news-sm==3.7.0) (67.7.2)\n",
            "Requirement already satisfied: packaging>=20.0 in /usr/local/lib/python3.10/dist-packages (from spacy<3.8.0,>=3.7.0->ru-core-news-sm==3.7.0) (24.0)\n",
            "Requirement already satisfied: langcodes<4.0.0,>=3.2.0 in /usr/local/lib/python3.10/dist-packages (from spacy<3.8.0,>=3.7.0->ru-core-news-sm==3.7.0) (3.4.0)\n",
            "Requirement already satisfied: numpy>=1.19.0 in /usr/local/lib/python3.10/dist-packages (from spacy<3.8.0,>=3.7.0->ru-core-news-sm==3.7.0) (1.25.2)\n",
            "Requirement already satisfied: language-data>=1.2 in /usr/local/lib/python3.10/dist-packages (from langcodes<4.0.0,>=3.2.0->spacy<3.8.0,>=3.7.0->ru-core-news-sm==3.7.0) (1.2.0)\n",
            "Requirement already satisfied: annotated-types>=0.4.0 in /usr/local/lib/python3.10/dist-packages (from pydantic!=1.8,!=1.8.1,<3.0.0,>=1.7.4->spacy<3.8.0,>=3.7.0->ru-core-news-sm==3.7.0) (0.6.0)\n",
            "Requirement already satisfied: pydantic-core==2.18.2 in /usr/local/lib/python3.10/dist-packages (from pydantic!=1.8,!=1.8.1,<3.0.0,>=1.7.4->spacy<3.8.0,>=3.7.0->ru-core-news-sm==3.7.0) (2.18.2)\n",
            "Requirement already satisfied: typing-extensions>=4.6.1 in /usr/local/lib/python3.10/dist-packages (from pydantic!=1.8,!=1.8.1,<3.0.0,>=1.7.4->spacy<3.8.0,>=3.7.0->ru-core-news-sm==3.7.0) (4.11.0)\n",
            "Requirement already satisfied: charset-normalizer<4,>=2 in /usr/local/lib/python3.10/dist-packages (from requests<3.0.0,>=2.13.0->spacy<3.8.0,>=3.7.0->ru-core-news-sm==3.7.0) (3.3.2)\n",
            "Requirement already satisfied: idna<4,>=2.5 in /usr/local/lib/python3.10/dist-packages (from requests<3.0.0,>=2.13.0->spacy<3.8.0,>=3.7.0->ru-core-news-sm==3.7.0) (3.7)\n",
            "Requirement already satisfied: urllib3<3,>=1.21.1 in /usr/local/lib/python3.10/dist-packages (from requests<3.0.0,>=2.13.0->spacy<3.8.0,>=3.7.0->ru-core-news-sm==3.7.0) (2.0.7)\n",
            "Requirement already satisfied: certifi>=2017.4.17 in /usr/local/lib/python3.10/dist-packages (from requests<3.0.0,>=2.13.0->spacy<3.8.0,>=3.7.0->ru-core-news-sm==3.7.0) (2024.2.2)\n",
            "Requirement already satisfied: blis<0.8.0,>=0.7.8 in /usr/local/lib/python3.10/dist-packages (from thinc<8.3.0,>=8.2.2->spacy<3.8.0,>=3.7.0->ru-core-news-sm==3.7.0) (0.7.11)\n",
            "Requirement already satisfied: confection<1.0.0,>=0.0.1 in /usr/local/lib/python3.10/dist-packages (from thinc<8.3.0,>=8.2.2->spacy<3.8.0,>=3.7.0->ru-core-news-sm==3.7.0) (0.1.4)\n",
            "Requirement already satisfied: click<9.0.0,>=7.1.1 in /usr/local/lib/python3.10/dist-packages (from typer<0.10.0,>=0.3.0->spacy<3.8.0,>=3.7.0->ru-core-news-sm==3.7.0) (8.1.7)\n",
            "Requirement already satisfied: cloudpathlib<0.17.0,>=0.7.0 in /usr/local/lib/python3.10/dist-packages (from weasel<0.4.0,>=0.1.0->spacy<3.8.0,>=3.7.0->ru-core-news-sm==3.7.0) (0.16.0)\n",
            "Requirement already satisfied: MarkupSafe>=2.0 in /usr/local/lib/python3.10/dist-packages (from jinja2->spacy<3.8.0,>=3.7.0->ru-core-news-sm==3.7.0) (2.1.5)\n",
            "Requirement already satisfied: marisa-trie>=0.7.7 in /usr/local/lib/python3.10/dist-packages (from language-data>=1.2->langcodes<4.0.0,>=3.2.0->spacy<3.8.0,>=3.7.0->ru-core-news-sm==3.7.0) (1.1.0)\n",
            "Installing collected packages: pymorphy3-dicts-ru, dawg-python, pymorphy3, ru-core-news-sm\n",
            "Successfully installed dawg-python-0.7.2 pymorphy3-2.0.1 pymorphy3-dicts-ru-2.4.417150.4580142 ru-core-news-sm-3.7.0\n",
            "\u001b[38;5;2m✔ Download and installation successful\u001b[0m\n",
            "You can now load the package via spacy.load('ru_core_news_sm')\n",
            "\u001b[38;5;3m⚠ Restart to reload dependencies\u001b[0m\n",
            "If you are in a Jupyter or Colab notebook, you may need to restart Python in\n",
            "order to load all the package's dependencies. You can do this by selecting the\n",
            "'Restart kernel' or 'Restart runtime' option.\n"
          ]
        }
      ],
      "source": [
        "!python3 -m spacy download ru_core_news_sm"
      ]
    },
    {
      "cell_type": "code",
      "execution_count": null,
      "metadata": {
        "id": "NHNZIy6BUROd"
      },
      "outputs": [],
      "source": [
        "import re\n",
        "import time\n",
        "import math\n",
        "import random\n",
        "import ast\n",
        "import numpy as np\n",
        "import pandas as pd\n",
        "import spacy\n",
        "import ru_core_news_sm\n",
        "\n",
        "import torch\n",
        "import torch.nn as nn\n",
        "import torch.nn.functional as F\n",
        "import random\n",
        "from typing import Tuple\n",
        "from tqdm import tqdm\n",
        "\n",
        "import torch.optim as optim\n",
        "from torch import Tensor\n",
        "import torch.optim as optim\n",
        "from torchtext.data.utils import get_tokenizer\n",
        "from collections import Counter\n",
        "from torchtext.vocab import vocab\n",
        "import matplotlib.pyplot as plt\n",
        "\n",
        "from torch.nn.utils.rnn import pad_sequence\n",
        "from torch.utils.data import DataLoader\n",
        "\n",
        "# from seq2seq_attention.visualize_attention import get_attention_frames\n",
        "\n",
        "from tqdm import notebook\n",
        "pd.set_option('display.max_colwidth', 200)\n",
        "\n",
        "import warnings\n",
        "warnings.filterwarnings('ignore')\n",
        "\n",
        "from collections import Counter, OrderedDict\n",
        "from sklearn.model_selection import train_test_split\n",
        "from torchtext.vocab import vocab\n",
        "from nltk.translate.bleu_score import corpus_bleu, sentence_bleu\n",
        "from torchtext.vocab import vocab\n",
        "from torchtext.data.utils import get_tokenizer\n",
        "import seaborn as sns"
      ]
    },
    {
      "cell_type": "code",
      "execution_count": null,
      "metadata": {
        "colab": {
          "base_uri": "https://localhost:8080/"
        },
        "id": "aS8Td9pdlBS_",
        "outputId": "b6eb941e-fee7-4dbc-dbd0-134e26bbadef"
      },
      "outputs": [
        {
          "name": "stdout",
          "output_type": "stream",
          "text": [
            "Mounted at gdrive\n"
          ]
        }
      ],
      "source": [
        "from google.colab import drive\n",
        "drive.mount('gdrive')"
      ]
    },
    {
      "cell_type": "code",
      "execution_count": null,
      "metadata": {
        "id": "83zBaYIiVM8x"
      },
      "outputs": [],
      "source": [
        "# df = pd.read_csv(\"/content/gdrive/MyDrive/rus.txt\", sep=\"\\t\", names=[\"English\", \"Russian\", \"lic\"])\n",
        "#loading already tokenized data\n",
        "df = pd.read_csv(\"/content/gdrive/MyDrive/tokenizer_data.csv\")"
      ]
    },
    {
      "cell_type": "code",
      "execution_count": null,
      "metadata": {
        "colab": {
          "base_uri": "https://localhost:8080/",
          "height": 1000
        },
        "id": "9maBO51FqPYC",
        "outputId": "b3505506-681c-43d2-b4bf-a8ec50efedd5"
      },
      "outputs": [
        {
          "data": {
            "application/vnd.google.colaboratory.intrinsic+json": {
              "type": "dataframe",
              "variable_name": "df"
            },
            "text/html": [
              "\n",
              "  <div id=\"df-9cc2a78e-6a70-465d-919b-4dbf2e8e4022\" class=\"colab-df-container\">\n",
              "    <div>\n",
              "<style scoped>\n",
              "    .dataframe tbody tr th:only-of-type {\n",
              "        vertical-align: middle;\n",
              "    }\n",
              "\n",
              "    .dataframe tbody tr th {\n",
              "        vertical-align: top;\n",
              "    }\n",
              "\n",
              "    .dataframe thead th {\n",
              "        text-align: right;\n",
              "    }\n",
              "</style>\n",
              "<table border=\"1\" class=\"dataframe\">\n",
              "  <thead>\n",
              "    <tr style=\"text-align: right;\">\n",
              "      <th></th>\n",
              "      <th>Unnamed: 0</th>\n",
              "      <th>English</th>\n",
              "      <th>Russian</th>\n",
              "    </tr>\n",
              "  </thead>\n",
              "  <tbody>\n",
              "    <tr>\n",
              "      <th>0</th>\n",
              "      <td>0</td>\n",
              "      <td>['go']</td>\n",
              "      <td>['марш']</td>\n",
              "    </tr>\n",
              "    <tr>\n",
              "      <th>1</th>\n",
              "      <td>1</td>\n",
              "      <td>['go']</td>\n",
              "      <td>['иди']</td>\n",
              "    </tr>\n",
              "    <tr>\n",
              "      <th>2</th>\n",
              "      <td>2</td>\n",
              "      <td>['go']</td>\n",
              "      <td>['идите']</td>\n",
              "    </tr>\n",
              "    <tr>\n",
              "      <th>3</th>\n",
              "      <td>3</td>\n",
              "      <td>['hi']</td>\n",
              "      <td>['здравствуйте']</td>\n",
              "    </tr>\n",
              "    <tr>\n",
              "      <th>4</th>\n",
              "      <td>4</td>\n",
              "      <td>['hi']</td>\n",
              "      <td>['привет']</td>\n",
              "    </tr>\n",
              "    <tr>\n",
              "      <th>5</th>\n",
              "      <td>5</td>\n",
              "      <td>['hi']</td>\n",
              "      <td>['хай']</td>\n",
              "    </tr>\n",
              "    <tr>\n",
              "      <th>6</th>\n",
              "      <td>6</td>\n",
              "      <td>['hi']</td>\n",
              "      <td>['здрасте']</td>\n",
              "    </tr>\n",
              "    <tr>\n",
              "      <th>7</th>\n",
              "      <td>7</td>\n",
              "      <td>['hi']</td>\n",
              "      <td>['здоро', 'во']</td>\n",
              "    </tr>\n",
              "    <tr>\n",
              "      <th>8</th>\n",
              "      <td>8</td>\n",
              "      <td>['hi']</td>\n",
              "      <td>['приветик']</td>\n",
              "    </tr>\n",
              "    <tr>\n",
              "      <th>9</th>\n",
              "      <td>9</td>\n",
              "      <td>['run']</td>\n",
              "      <td>['беги']</td>\n",
              "    </tr>\n",
              "    <tr>\n",
              "      <th>10</th>\n",
              "      <td>10</td>\n",
              "      <td>['run']</td>\n",
              "      <td>['бегите']</td>\n",
              "    </tr>\n",
              "    <tr>\n",
              "      <th>11</th>\n",
              "      <td>11</td>\n",
              "      <td>['run']</td>\n",
              "      <td>['беги']</td>\n",
              "    </tr>\n",
              "    <tr>\n",
              "      <th>12</th>\n",
              "      <td>12</td>\n",
              "      <td>['run']</td>\n",
              "      <td>['бегите']</td>\n",
              "    </tr>\n",
              "    <tr>\n",
              "      <th>13</th>\n",
              "      <td>13</td>\n",
              "      <td>['who']</td>\n",
              "      <td>['кто']</td>\n",
              "    </tr>\n",
              "    <tr>\n",
              "      <th>14</th>\n",
              "      <td>14</td>\n",
              "      <td>['wow']</td>\n",
              "      <td>['вот', 'это', 'да']</td>\n",
              "    </tr>\n",
              "    <tr>\n",
              "      <th>15</th>\n",
              "      <td>15</td>\n",
              "      <td>['wow']</td>\n",
              "      <td>['круто']</td>\n",
              "    </tr>\n",
              "    <tr>\n",
              "      <th>16</th>\n",
              "      <td>16</td>\n",
              "      <td>['wow']</td>\n",
              "      <td>['здорово']</td>\n",
              "    </tr>\n",
              "    <tr>\n",
              "      <th>17</th>\n",
              "      <td>17</td>\n",
              "      <td>['wow']</td>\n",
              "      <td>['ух', 'ты']</td>\n",
              "    </tr>\n",
              "    <tr>\n",
              "      <th>18</th>\n",
              "      <td>18</td>\n",
              "      <td>['wow']</td>\n",
              "      <td>['ого']</td>\n",
              "    </tr>\n",
              "    <tr>\n",
              "      <th>19</th>\n",
              "      <td>19</td>\n",
              "      <td>['wow']</td>\n",
              "      <td>['вах']</td>\n",
              "    </tr>\n",
              "    <tr>\n",
              "      <th>20</th>\n",
              "      <td>20</td>\n",
              "      <td>['duck']</td>\n",
              "      <td>['пригнись']</td>\n",
              "    </tr>\n",
              "    <tr>\n",
              "      <th>21</th>\n",
              "      <td>21</td>\n",
              "      <td>['fire']</td>\n",
              "      <td>['огонь']</td>\n",
              "    </tr>\n",
              "    <tr>\n",
              "      <th>22</th>\n",
              "      <td>22</td>\n",
              "      <td>['fire']</td>\n",
              "      <td>['пожар']</td>\n",
              "    </tr>\n",
              "    <tr>\n",
              "      <th>23</th>\n",
              "      <td>23</td>\n",
              "      <td>['help']</td>\n",
              "      <td>['помогите']</td>\n",
              "    </tr>\n",
              "    <tr>\n",
              "      <th>24</th>\n",
              "      <td>24</td>\n",
              "      <td>['help']</td>\n",
              "      <td>['на', 'помощь']</td>\n",
              "    </tr>\n",
              "    <tr>\n",
              "      <th>25</th>\n",
              "      <td>25</td>\n",
              "      <td>['help']</td>\n",
              "      <td>['спасите']</td>\n",
              "    </tr>\n",
              "    <tr>\n",
              "      <th>26</th>\n",
              "      <td>26</td>\n",
              "      <td>['help']</td>\n",
              "      <td>['помоги']</td>\n",
              "    </tr>\n",
              "    <tr>\n",
              "      <th>27</th>\n",
              "      <td>27</td>\n",
              "      <td>['hide']</td>\n",
              "      <td>['прячься']</td>\n",
              "    </tr>\n",
              "    <tr>\n",
              "      <th>28</th>\n",
              "      <td>28</td>\n",
              "      <td>['hide']</td>\n",
              "      <td>['прячьтесь']</td>\n",
              "    </tr>\n",
              "    <tr>\n",
              "      <th>29</th>\n",
              "      <td>29</td>\n",
              "      <td>['hide']</td>\n",
              "      <td>['спрячься']</td>\n",
              "    </tr>\n",
              "    <tr>\n",
              "      <th>30</th>\n",
              "      <td>30</td>\n",
              "      <td>['hide']</td>\n",
              "      <td>['спрячьтесь']</td>\n",
              "    </tr>\n",
              "    <tr>\n",
              "      <th>31</th>\n",
              "      <td>31</td>\n",
              "      <td>['jump']</td>\n",
              "      <td>['прыгай']</td>\n",
              "    </tr>\n",
              "    <tr>\n",
              "      <th>32</th>\n",
              "      <td>32</td>\n",
              "      <td>['jump']</td>\n",
              "      <td>['прыгайте']</td>\n",
              "    </tr>\n",
              "    <tr>\n",
              "      <th>33</th>\n",
              "      <td>33</td>\n",
              "      <td>['jump']</td>\n",
              "      <td>['прыгай']</td>\n",
              "    </tr>\n",
              "    <tr>\n",
              "      <th>34</th>\n",
              "      <td>34</td>\n",
              "      <td>['jump']</td>\n",
              "      <td>['прыгайте']</td>\n",
              "    </tr>\n",
              "    <tr>\n",
              "      <th>35</th>\n",
              "      <td>35</td>\n",
              "      <td>['stay']</td>\n",
              "      <td>['оставайся']</td>\n",
              "    </tr>\n",
              "    <tr>\n",
              "      <th>36</th>\n",
              "      <td>36</td>\n",
              "      <td>['stay']</td>\n",
              "      <td>['оставайтесь']</td>\n",
              "    </tr>\n",
              "    <tr>\n",
              "      <th>37</th>\n",
              "      <td>37</td>\n",
              "      <td>['stay']</td>\n",
              "      <td>['останься']</td>\n",
              "    </tr>\n",
              "    <tr>\n",
              "      <th>38</th>\n",
              "      <td>38</td>\n",
              "      <td>['stay']</td>\n",
              "      <td>['останьтесь']</td>\n",
              "    </tr>\n",
              "    <tr>\n",
              "      <th>39</th>\n",
              "      <td>39</td>\n",
              "      <td>['stop']</td>\n",
              "      <td>['стой']</td>\n",
              "    </tr>\n",
              "    <tr>\n",
              "      <th>40</th>\n",
              "      <td>40</td>\n",
              "      <td>['stop']</td>\n",
              "      <td>['остановитесь']</td>\n",
              "    </tr>\n",
              "    <tr>\n",
              "      <th>41</th>\n",
              "      <td>41</td>\n",
              "      <td>['stop']</td>\n",
              "      <td>['остановись']</td>\n",
              "    </tr>\n",
              "    <tr>\n",
              "      <th>42</th>\n",
              "      <td>42</td>\n",
              "      <td>['wait']</td>\n",
              "      <td>['стой']</td>\n",
              "    </tr>\n",
              "    <tr>\n",
              "      <th>43</th>\n",
              "      <td>43</td>\n",
              "      <td>['wait']</td>\n",
              "      <td>['подожди']</td>\n",
              "    </tr>\n",
              "    <tr>\n",
              "      <th>44</th>\n",
              "      <td>44</td>\n",
              "      <td>['wait']</td>\n",
              "      <td>['подождите']</td>\n",
              "    </tr>\n",
              "    <tr>\n",
              "      <th>45</th>\n",
              "      <td>45</td>\n",
              "      <td>['wait']</td>\n",
              "      <td>['ждите']</td>\n",
              "    </tr>\n",
              "    <tr>\n",
              "      <th>46</th>\n",
              "      <td>46</td>\n",
              "      <td>['wait']</td>\n",
              "      <td>['жди']</td>\n",
              "    </tr>\n",
              "    <tr>\n",
              "      <th>47</th>\n",
              "      <td>47</td>\n",
              "      <td>['wait']</td>\n",
              "      <td>['постой']</td>\n",
              "    </tr>\n",
              "    <tr>\n",
              "      <th>48</th>\n",
              "      <td>48</td>\n",
              "      <td>['wait']</td>\n",
              "      <td>['ждите']</td>\n",
              "    </tr>\n",
              "    <tr>\n",
              "      <th>49</th>\n",
              "      <td>49</td>\n",
              "      <td>['wait']</td>\n",
              "      <td>['подожди']</td>\n",
              "    </tr>\n",
              "  </tbody>\n",
              "</table>\n",
              "</div>\n",
              "    <div class=\"colab-df-buttons\">\n",
              "\n",
              "  <div class=\"colab-df-container\">\n",
              "    <button class=\"colab-df-convert\" onclick=\"convertToInteractive('df-9cc2a78e-6a70-465d-919b-4dbf2e8e4022')\"\n",
              "            title=\"Convert this dataframe to an interactive table.\"\n",
              "            style=\"display:none;\">\n",
              "\n",
              "  <svg xmlns=\"http://www.w3.org/2000/svg\" height=\"24px\" viewBox=\"0 -960 960 960\">\n",
              "    <path d=\"M120-120v-720h720v720H120Zm60-500h600v-160H180v160Zm220 220h160v-160H400v160Zm0 220h160v-160H400v160ZM180-400h160v-160H180v160Zm440 0h160v-160H620v160ZM180-180h160v-160H180v160Zm440 0h160v-160H620v160Z\"/>\n",
              "  </svg>\n",
              "    </button>\n",
              "\n",
              "  <style>\n",
              "    .colab-df-container {\n",
              "      display:flex;\n",
              "      gap: 12px;\n",
              "    }\n",
              "\n",
              "    .colab-df-convert {\n",
              "      background-color: #E8F0FE;\n",
              "      border: none;\n",
              "      border-radius: 50%;\n",
              "      cursor: pointer;\n",
              "      display: none;\n",
              "      fill: #1967D2;\n",
              "      height: 32px;\n",
              "      padding: 0 0 0 0;\n",
              "      width: 32px;\n",
              "    }\n",
              "\n",
              "    .colab-df-convert:hover {\n",
              "      background-color: #E2EBFA;\n",
              "      box-shadow: 0px 1px 2px rgba(60, 64, 67, 0.3), 0px 1px 3px 1px rgba(60, 64, 67, 0.15);\n",
              "      fill: #174EA6;\n",
              "    }\n",
              "\n",
              "    .colab-df-buttons div {\n",
              "      margin-bottom: 4px;\n",
              "    }\n",
              "\n",
              "    [theme=dark] .colab-df-convert {\n",
              "      background-color: #3B4455;\n",
              "      fill: #D2E3FC;\n",
              "    }\n",
              "\n",
              "    [theme=dark] .colab-df-convert:hover {\n",
              "      background-color: #434B5C;\n",
              "      box-shadow: 0px 1px 3px 1px rgba(0, 0, 0, 0.15);\n",
              "      filter: drop-shadow(0px 1px 2px rgba(0, 0, 0, 0.3));\n",
              "      fill: #FFFFFF;\n",
              "    }\n",
              "  </style>\n",
              "\n",
              "    <script>\n",
              "      const buttonEl =\n",
              "        document.querySelector('#df-9cc2a78e-6a70-465d-919b-4dbf2e8e4022 button.colab-df-convert');\n",
              "      buttonEl.style.display =\n",
              "        google.colab.kernel.accessAllowed ? 'block' : 'none';\n",
              "\n",
              "      async function convertToInteractive(key) {\n",
              "        const element = document.querySelector('#df-9cc2a78e-6a70-465d-919b-4dbf2e8e4022');\n",
              "        const dataTable =\n",
              "          await google.colab.kernel.invokeFunction('convertToInteractive',\n",
              "                                                    [key], {});\n",
              "        if (!dataTable) return;\n",
              "\n",
              "        const docLinkHtml = 'Like what you see? Visit the ' +\n",
              "          '<a target=\"_blank\" href=https://colab.research.google.com/notebooks/data_table.ipynb>data table notebook</a>'\n",
              "          + ' to learn more about interactive tables.';\n",
              "        element.innerHTML = '';\n",
              "        dataTable['output_type'] = 'display_data';\n",
              "        await google.colab.output.renderOutput(dataTable, element);\n",
              "        const docLink = document.createElement('div');\n",
              "        docLink.innerHTML = docLinkHtml;\n",
              "        element.appendChild(docLink);\n",
              "      }\n",
              "    </script>\n",
              "  </div>\n",
              "\n",
              "\n",
              "<div id=\"df-7610ca86-0177-4558-bfa7-feb6745d6032\">\n",
              "  <button class=\"colab-df-quickchart\" onclick=\"quickchart('df-7610ca86-0177-4558-bfa7-feb6745d6032')\"\n",
              "            title=\"Suggest charts\"\n",
              "            style=\"display:none;\">\n",
              "\n",
              "<svg xmlns=\"http://www.w3.org/2000/svg\" height=\"24px\"viewBox=\"0 0 24 24\"\n",
              "     width=\"24px\">\n",
              "    <g>\n",
              "        <path d=\"M19 3H5c-1.1 0-2 .9-2 2v14c0 1.1.9 2 2 2h14c1.1 0 2-.9 2-2V5c0-1.1-.9-2-2-2zM9 17H7v-7h2v7zm4 0h-2V7h2v10zm4 0h-2v-4h2v4z\"/>\n",
              "    </g>\n",
              "</svg>\n",
              "  </button>\n",
              "\n",
              "<style>\n",
              "  .colab-df-quickchart {\n",
              "      --bg-color: #E8F0FE;\n",
              "      --fill-color: #1967D2;\n",
              "      --hover-bg-color: #E2EBFA;\n",
              "      --hover-fill-color: #174EA6;\n",
              "      --disabled-fill-color: #AAA;\n",
              "      --disabled-bg-color: #DDD;\n",
              "  }\n",
              "\n",
              "  [theme=dark] .colab-df-quickchart {\n",
              "      --bg-color: #3B4455;\n",
              "      --fill-color: #D2E3FC;\n",
              "      --hover-bg-color: #434B5C;\n",
              "      --hover-fill-color: #FFFFFF;\n",
              "      --disabled-bg-color: #3B4455;\n",
              "      --disabled-fill-color: #666;\n",
              "  }\n",
              "\n",
              "  .colab-df-quickchart {\n",
              "    background-color: var(--bg-color);\n",
              "    border: none;\n",
              "    border-radius: 50%;\n",
              "    cursor: pointer;\n",
              "    display: none;\n",
              "    fill: var(--fill-color);\n",
              "    height: 32px;\n",
              "    padding: 0;\n",
              "    width: 32px;\n",
              "  }\n",
              "\n",
              "  .colab-df-quickchart:hover {\n",
              "    background-color: var(--hover-bg-color);\n",
              "    box-shadow: 0 1px 2px rgba(60, 64, 67, 0.3), 0 1px 3px 1px rgba(60, 64, 67, 0.15);\n",
              "    fill: var(--button-hover-fill-color);\n",
              "  }\n",
              "\n",
              "  .colab-df-quickchart-complete:disabled,\n",
              "  .colab-df-quickchart-complete:disabled:hover {\n",
              "    background-color: var(--disabled-bg-color);\n",
              "    fill: var(--disabled-fill-color);\n",
              "    box-shadow: none;\n",
              "  }\n",
              "\n",
              "  .colab-df-spinner {\n",
              "    border: 2px solid var(--fill-color);\n",
              "    border-color: transparent;\n",
              "    border-bottom-color: var(--fill-color);\n",
              "    animation:\n",
              "      spin 1s steps(1) infinite;\n",
              "  }\n",
              "\n",
              "  @keyframes spin {\n",
              "    0% {\n",
              "      border-color: transparent;\n",
              "      border-bottom-color: var(--fill-color);\n",
              "      border-left-color: var(--fill-color);\n",
              "    }\n",
              "    20% {\n",
              "      border-color: transparent;\n",
              "      border-left-color: var(--fill-color);\n",
              "      border-top-color: var(--fill-color);\n",
              "    }\n",
              "    30% {\n",
              "      border-color: transparent;\n",
              "      border-left-color: var(--fill-color);\n",
              "      border-top-color: var(--fill-color);\n",
              "      border-right-color: var(--fill-color);\n",
              "    }\n",
              "    40% {\n",
              "      border-color: transparent;\n",
              "      border-right-color: var(--fill-color);\n",
              "      border-top-color: var(--fill-color);\n",
              "    }\n",
              "    60% {\n",
              "      border-color: transparent;\n",
              "      border-right-color: var(--fill-color);\n",
              "    }\n",
              "    80% {\n",
              "      border-color: transparent;\n",
              "      border-right-color: var(--fill-color);\n",
              "      border-bottom-color: var(--fill-color);\n",
              "    }\n",
              "    90% {\n",
              "      border-color: transparent;\n",
              "      border-bottom-color: var(--fill-color);\n",
              "    }\n",
              "  }\n",
              "</style>\n",
              "\n",
              "  <script>\n",
              "    async function quickchart(key) {\n",
              "      const quickchartButtonEl =\n",
              "        document.querySelector('#' + key + ' button');\n",
              "      quickchartButtonEl.disabled = true;  // To prevent multiple clicks.\n",
              "      quickchartButtonEl.classList.add('colab-df-spinner');\n",
              "      try {\n",
              "        const charts = await google.colab.kernel.invokeFunction(\n",
              "            'suggestCharts', [key], {});\n",
              "      } catch (error) {\n",
              "        console.error('Error during call to suggestCharts:', error);\n",
              "      }\n",
              "      quickchartButtonEl.classList.remove('colab-df-spinner');\n",
              "      quickchartButtonEl.classList.add('colab-df-quickchart-complete');\n",
              "    }\n",
              "    (() => {\n",
              "      let quickchartButtonEl =\n",
              "        document.querySelector('#df-7610ca86-0177-4558-bfa7-feb6745d6032 button');\n",
              "      quickchartButtonEl.style.display =\n",
              "        google.colab.kernel.accessAllowed ? 'block' : 'none';\n",
              "    })();\n",
              "  </script>\n",
              "</div>\n",
              "\n",
              "    </div>\n",
              "  </div>\n"
            ],
            "text/plain": [
              "    Unnamed: 0   English               Russian\n",
              "0            0    ['go']              ['марш']\n",
              "1            1    ['go']               ['иди']\n",
              "2            2    ['go']             ['идите']\n",
              "3            3    ['hi']      ['здравствуйте']\n",
              "4            4    ['hi']            ['привет']\n",
              "5            5    ['hi']               ['хай']\n",
              "6            6    ['hi']           ['здрасте']\n",
              "7            7    ['hi']       ['здоро', 'во']\n",
              "8            8    ['hi']          ['приветик']\n",
              "9            9   ['run']              ['беги']\n",
              "10          10   ['run']            ['бегите']\n",
              "11          11   ['run']              ['беги']\n",
              "12          12   ['run']            ['бегите']\n",
              "13          13   ['who']               ['кто']\n",
              "14          14   ['wow']  ['вот', 'это', 'да']\n",
              "15          15   ['wow']             ['круто']\n",
              "16          16   ['wow']           ['здорово']\n",
              "17          17   ['wow']          ['ух', 'ты']\n",
              "18          18   ['wow']               ['ого']\n",
              "19          19   ['wow']               ['вах']\n",
              "20          20  ['duck']          ['пригнись']\n",
              "21          21  ['fire']             ['огонь']\n",
              "22          22  ['fire']             ['пожар']\n",
              "23          23  ['help']          ['помогите']\n",
              "24          24  ['help']      ['на', 'помощь']\n",
              "25          25  ['help']           ['спасите']\n",
              "26          26  ['help']            ['помоги']\n",
              "27          27  ['hide']           ['прячься']\n",
              "28          28  ['hide']         ['прячьтесь']\n",
              "29          29  ['hide']          ['спрячься']\n",
              "30          30  ['hide']        ['спрячьтесь']\n",
              "31          31  ['jump']            ['прыгай']\n",
              "32          32  ['jump']          ['прыгайте']\n",
              "33          33  ['jump']            ['прыгай']\n",
              "34          34  ['jump']          ['прыгайте']\n",
              "35          35  ['stay']         ['оставайся']\n",
              "36          36  ['stay']       ['оставайтесь']\n",
              "37          37  ['stay']          ['останься']\n",
              "38          38  ['stay']        ['останьтесь']\n",
              "39          39  ['stop']              ['стой']\n",
              "40          40  ['stop']      ['остановитесь']\n",
              "41          41  ['stop']        ['остановись']\n",
              "42          42  ['wait']              ['стой']\n",
              "43          43  ['wait']           ['подожди']\n",
              "44          44  ['wait']         ['подождите']\n",
              "45          45  ['wait']             ['ждите']\n",
              "46          46  ['wait']               ['жди']\n",
              "47          47  ['wait']            ['постой']\n",
              "48          48  ['wait']             ['ждите']\n",
              "49          49  ['wait']           ['подожди']"
            ]
          },
          "execution_count": 5,
          "metadata": {},
          "output_type": "execute_result"
        }
      ],
      "source": [
        "df.head(50)"
      ]
    },
    {
      "cell_type": "code",
      "execution_count": null,
      "metadata": {
        "id": "Rm6IMqb9VVps"
      },
      "outputs": [],
      "source": [
        "# df.drop(\"lic\", axis=1, inplace=True)"
      ]
    },
    {
      "cell_type": "code",
      "execution_count": null,
      "metadata": {
        "id": "IXyhjsxVx_sk"
      },
      "outputs": [],
      "source": [
        "#CFG\n",
        "# max_eng_len = 40\n",
        "# max_rus_len = 40\n",
        "device = torch.device(\"cuda\" if torch.cuda.is_available() else \"cpu\")"
      ]
    },
    {
      "cell_type": "code",
      "execution_count": null,
      "metadata": {
        "id": "CaFCM--EyIOv"
      },
      "outputs": [],
      "source": [
        "# def clean_text(text):\n",
        "#     text = text.lower()\n",
        "#     pattern = re.compile('\\W')\n",
        "#     text = re.sub(pattern,' ',text).strip()\n",
        "#     return text"
      ]
    },
    {
      "cell_type": "code",
      "execution_count": null,
      "metadata": {
        "id": "OUPJ4woNyKTh"
      },
      "outputs": [],
      "source": [
        "# df.English = df.English.apply(clean_text)\n",
        "# df.Russian = df.Russian.apply(clean_text)"
      ]
    },
    {
      "cell_type": "code",
      "execution_count": null,
      "metadata": {
        "id": "s2sPJhG6jO3x"
      },
      "outputs": [],
      "source": [
        "# Load the Russian model\n",
        "rus_tokenizer = spacy.load(\"ru_core_news_sm\")\n",
        "\n",
        "# Load the English model\n",
        "eng_tokenizer = spacy.load(\"en_core_web_sm\")"
      ]
    },
    {
      "cell_type": "code",
      "execution_count": null,
      "metadata": {
        "id": "NiOcFeegjgby"
      },
      "outputs": [],
      "source": [
        "def tokenize_russian(text):\n",
        "  return [tok.text for tok in rus_tokenizer.tokenizer(text)]\n",
        "\n",
        "# Tokenizes English text from a string into a list of tokens\n",
        "def tokenize_en(text):\n",
        "  return [tok.text for tok in eng_tokenizer.tokenizer(text)]"
      ]
    },
    {
      "cell_type": "code",
      "execution_count": null,
      "metadata": {
        "id": "57_WHs0QDZII"
      },
      "outputs": [],
      "source": [
        "def build_vocab(series, tokenizer):\n",
        "    counter = Counter()\n",
        "    for text in series:\n",
        "        counter.update(tokenizer(text))\n",
        "    # Sort tokens by frequency and extract only the tokens, not their frequencies\n",
        "    sorted_tokens = sorted(counter.keys(), key=lambda token: -counter[token])\n",
        "    # Create a Vocab object with these sorted tokens, and specify special tokens\n",
        "    return vocab(OrderedDict((token, 1) for token in sorted_tokens), specials=['<unk>', '<pad>', '<bos>', '<eos>'])"
      ]
    },
    {
      "cell_type": "code",
      "execution_count": null,
      "metadata": {
        "id": "7iup-34hDyvN"
      },
      "outputs": [],
      "source": [
        "def spacy_tokenizer(text, tokenizer):\n",
        " return [tok.text for tok in tokenizer(text)]"
      ]
    },
    {
      "cell_type": "code",
      "execution_count": null,
      "metadata": {
        "id": "H9OfCiN_D6eI"
      },
      "outputs": [],
      "source": [
        "# df.Russian = df.Russian.apply(lambda text: spacy_tokenizer(text, rus_tokenizer))\n",
        "# df.English = df.English.apply(lambda text: spacy_tokenizer(text, eng_tokenizer))"
      ]
    },
    {
      "cell_type": "code",
      "execution_count": null,
      "metadata": {
        "id": "P2SqpxKwQx_X"
      },
      "outputs": [],
      "source": [
        "# df.to_csv(\"/content/gdrive/MyDrive/tokenizer_data.csv\")"
      ]
    },
    {
      "cell_type": "code",
      "execution_count": null,
      "metadata": {
        "id": "I88CfEpuyEbI"
      },
      "outputs": [],
      "source": [
        "df['English'] = df['English'].apply(ast.literal_eval)\n",
        "df['Russian'] = df['Russian'].apply(ast.literal_eval)"
      ]
    },
    {
      "cell_type": "code",
      "execution_count": null,
      "metadata": {
        "colab": {
          "base_uri": "https://localhost:8080/"
        },
        "id": "CTt-4JOtyZ4Z",
        "outputId": "53f870f1-f88b-4d81-d094-37fa53d29156"
      },
      "outputs": [
        {
          "data": {
            "text/plain": [
              "['go']"
            ]
          },
          "execution_count": 17,
          "metadata": {},
          "output_type": "execute_result"
        }
      ],
      "source": [
        "df.English[0]"
      ]
    },
    {
      "cell_type": "code",
      "execution_count": null,
      "metadata": {
        "id": "dRd8NtlKkmAv"
      },
      "outputs": [],
      "source": [
        "ru_vocab = build_vocab(df.Russian, lambda tokens: tokens) # Since df.Russian is already tokenized\n",
        "en_vocab = build_vocab(df.English, lambda tokens: tokens) # Since df.English is already tokenized"
      ]
    },
    {
      "cell_type": "code",
      "execution_count": null,
      "metadata": {
        "colab": {
          "base_uri": "https://localhost:8080/"
        },
        "id": "Ud1zuNkhxYuG",
        "outputId": "6a01fe7f-47d0-4b67-8b7a-a344965d3c06"
      },
      "outputs": [
        {
          "data": {
            "text/plain": [
              "60048"
            ]
          },
          "execution_count": 19,
          "metadata": {},
          "output_type": "execute_result"
        }
      ],
      "source": [
        "len(ru_vocab)"
      ]
    },
    {
      "cell_type": "code",
      "execution_count": null,
      "metadata": {
        "id": "dtrrcWiFJXsu"
      },
      "outputs": [],
      "source": [
        "def data_process(df, ru_vocab, en_vocab):\n",
        "    data = []\n",
        "    for _, row in df.iterrows():\n",
        "        eng_tokens = row['English']\n",
        "        rus_tokens = row['Russian']\n",
        "\n",
        "        # Convert tokens to tensor indices using vocabularies\n",
        "        ru_tensor_ = torch.tensor([ru_vocab[token] if token in ru_vocab else ru_vocab['<unk>'] for token in rus_tokens], dtype=torch.long)\n",
        "        en_tensor_ = torch.tensor([en_vocab[token] if token in en_vocab else en_vocab['<unk>'] for token in eng_tokens], dtype=torch.long)\n",
        "        data.append((ru_tensor_, en_tensor_))\n",
        "    return data"
      ]
    },
    {
      "cell_type": "code",
      "execution_count": null,
      "metadata": {
        "id": "cpiz6xS-Gm3B"
      },
      "outputs": [],
      "source": [
        "# train_df = df.loc[:int(len(df)*0.9)]\n",
        "# val_df = df.loc[int(len(df)*0.9):]\n",
        "train_df, val_df = train_test_split(df, test_size = 0.2, shuffle = True)\n",
        "train_data = data_process(train_df, ru_vocab, en_vocab)\n",
        "val_data = data_process(val_df, ru_vocab, en_vocab)"
      ]
    },
    {
      "cell_type": "code",
      "execution_count": null,
      "metadata": {
        "colab": {
          "base_uri": "https://localhost:8080/",
          "height": 206
        },
        "id": "rlkoe4HGxN45",
        "outputId": "38f3c8f0-18f1-46a2-db1a-aa01c9155dbf"
      },
      "outputs": [
        {
          "data": {
            "application/vnd.google.colaboratory.intrinsic+json": {
              "type": "dataframe",
              "variable_name": "train_df"
            },
            "text/html": [
              "\n",
              "  <div id=\"df-a198be38-0ef8-4963-8057-967ea4fcfbea\" class=\"colab-df-container\">\n",
              "    <div>\n",
              "<style scoped>\n",
              "    .dataframe tbody tr th:only-of-type {\n",
              "        vertical-align: middle;\n",
              "    }\n",
              "\n",
              "    .dataframe tbody tr th {\n",
              "        vertical-align: top;\n",
              "    }\n",
              "\n",
              "    .dataframe thead th {\n",
              "        text-align: right;\n",
              "    }\n",
              "</style>\n",
              "<table border=\"1\" class=\"dataframe\">\n",
              "  <thead>\n",
              "    <tr style=\"text-align: right;\">\n",
              "      <th></th>\n",
              "      <th>Unnamed: 0</th>\n",
              "      <th>English</th>\n",
              "      <th>Russian</th>\n",
              "    </tr>\n",
              "  </thead>\n",
              "  <tbody>\n",
              "    <tr>\n",
              "      <th>395047</th>\n",
              "      <td>395047</td>\n",
              "      <td>[you, don, t, need, to, go, in, such, a, hurry]</td>\n",
              "      <td>[вам, не, нужно, так, поспешно, идти]</td>\n",
              "    </tr>\n",
              "    <tr>\n",
              "      <th>34500</th>\n",
              "      <td>34500</td>\n",
              "      <td>[i, never, knew, tom]</td>\n",
              "      <td>[я, никогда, не, был, знаком, с, томом]</td>\n",
              "    </tr>\n",
              "    <tr>\n",
              "      <th>247292</th>\n",
              "      <td>247292</td>\n",
              "      <td>[are, you, sure, you, re, not, busy]</td>\n",
              "      <td>[ты, уверена,  , что, не, занята]</td>\n",
              "    </tr>\n",
              "    <tr>\n",
              "      <th>269531</th>\n",
              "      <td>269531</td>\n",
              "      <td>[he, had, to, work, even, on, sunday]</td>\n",
              "      <td>[ему, пришлось, работать, даже, в, воскресенье]</td>\n",
              "    </tr>\n",
              "    <tr>\n",
              "      <th>353024</th>\n",
              "      <td>353024</td>\n",
              "      <td>[tom, leaves, his, tv, on, all, day, long]</td>\n",
              "      <td>[том, целый, день, не, выключает, телевизор]</td>\n",
              "    </tr>\n",
              "  </tbody>\n",
              "</table>\n",
              "</div>\n",
              "    <div class=\"colab-df-buttons\">\n",
              "\n",
              "  <div class=\"colab-df-container\">\n",
              "    <button class=\"colab-df-convert\" onclick=\"convertToInteractive('df-a198be38-0ef8-4963-8057-967ea4fcfbea')\"\n",
              "            title=\"Convert this dataframe to an interactive table.\"\n",
              "            style=\"display:none;\">\n",
              "\n",
              "  <svg xmlns=\"http://www.w3.org/2000/svg\" height=\"24px\" viewBox=\"0 -960 960 960\">\n",
              "    <path d=\"M120-120v-720h720v720H120Zm60-500h600v-160H180v160Zm220 220h160v-160H400v160Zm0 220h160v-160H400v160ZM180-400h160v-160H180v160Zm440 0h160v-160H620v160ZM180-180h160v-160H180v160Zm440 0h160v-160H620v160Z\"/>\n",
              "  </svg>\n",
              "    </button>\n",
              "\n",
              "  <style>\n",
              "    .colab-df-container {\n",
              "      display:flex;\n",
              "      gap: 12px;\n",
              "    }\n",
              "\n",
              "    .colab-df-convert {\n",
              "      background-color: #E8F0FE;\n",
              "      border: none;\n",
              "      border-radius: 50%;\n",
              "      cursor: pointer;\n",
              "      display: none;\n",
              "      fill: #1967D2;\n",
              "      height: 32px;\n",
              "      padding: 0 0 0 0;\n",
              "      width: 32px;\n",
              "    }\n",
              "\n",
              "    .colab-df-convert:hover {\n",
              "      background-color: #E2EBFA;\n",
              "      box-shadow: 0px 1px 2px rgba(60, 64, 67, 0.3), 0px 1px 3px 1px rgba(60, 64, 67, 0.15);\n",
              "      fill: #174EA6;\n",
              "    }\n",
              "\n",
              "    .colab-df-buttons div {\n",
              "      margin-bottom: 4px;\n",
              "    }\n",
              "\n",
              "    [theme=dark] .colab-df-convert {\n",
              "      background-color: #3B4455;\n",
              "      fill: #D2E3FC;\n",
              "    }\n",
              "\n",
              "    [theme=dark] .colab-df-convert:hover {\n",
              "      background-color: #434B5C;\n",
              "      box-shadow: 0px 1px 3px 1px rgba(0, 0, 0, 0.15);\n",
              "      filter: drop-shadow(0px 1px 2px rgba(0, 0, 0, 0.3));\n",
              "      fill: #FFFFFF;\n",
              "    }\n",
              "  </style>\n",
              "\n",
              "    <script>\n",
              "      const buttonEl =\n",
              "        document.querySelector('#df-a198be38-0ef8-4963-8057-967ea4fcfbea button.colab-df-convert');\n",
              "      buttonEl.style.display =\n",
              "        google.colab.kernel.accessAllowed ? 'block' : 'none';\n",
              "\n",
              "      async function convertToInteractive(key) {\n",
              "        const element = document.querySelector('#df-a198be38-0ef8-4963-8057-967ea4fcfbea');\n",
              "        const dataTable =\n",
              "          await google.colab.kernel.invokeFunction('convertToInteractive',\n",
              "                                                    [key], {});\n",
              "        if (!dataTable) return;\n",
              "\n",
              "        const docLinkHtml = 'Like what you see? Visit the ' +\n",
              "          '<a target=\"_blank\" href=https://colab.research.google.com/notebooks/data_table.ipynb>data table notebook</a>'\n",
              "          + ' to learn more about interactive tables.';\n",
              "        element.innerHTML = '';\n",
              "        dataTable['output_type'] = 'display_data';\n",
              "        await google.colab.output.renderOutput(dataTable, element);\n",
              "        const docLink = document.createElement('div');\n",
              "        docLink.innerHTML = docLinkHtml;\n",
              "        element.appendChild(docLink);\n",
              "      }\n",
              "    </script>\n",
              "  </div>\n",
              "\n",
              "\n",
              "<div id=\"df-8470f215-8502-4336-9339-0fbc708af344\">\n",
              "  <button class=\"colab-df-quickchart\" onclick=\"quickchart('df-8470f215-8502-4336-9339-0fbc708af344')\"\n",
              "            title=\"Suggest charts\"\n",
              "            style=\"display:none;\">\n",
              "\n",
              "<svg xmlns=\"http://www.w3.org/2000/svg\" height=\"24px\"viewBox=\"0 0 24 24\"\n",
              "     width=\"24px\">\n",
              "    <g>\n",
              "        <path d=\"M19 3H5c-1.1 0-2 .9-2 2v14c0 1.1.9 2 2 2h14c1.1 0 2-.9 2-2V5c0-1.1-.9-2-2-2zM9 17H7v-7h2v7zm4 0h-2V7h2v10zm4 0h-2v-4h2v4z\"/>\n",
              "    </g>\n",
              "</svg>\n",
              "  </button>\n",
              "\n",
              "<style>\n",
              "  .colab-df-quickchart {\n",
              "      --bg-color: #E8F0FE;\n",
              "      --fill-color: #1967D2;\n",
              "      --hover-bg-color: #E2EBFA;\n",
              "      --hover-fill-color: #174EA6;\n",
              "      --disabled-fill-color: #AAA;\n",
              "      --disabled-bg-color: #DDD;\n",
              "  }\n",
              "\n",
              "  [theme=dark] .colab-df-quickchart {\n",
              "      --bg-color: #3B4455;\n",
              "      --fill-color: #D2E3FC;\n",
              "      --hover-bg-color: #434B5C;\n",
              "      --hover-fill-color: #FFFFFF;\n",
              "      --disabled-bg-color: #3B4455;\n",
              "      --disabled-fill-color: #666;\n",
              "  }\n",
              "\n",
              "  .colab-df-quickchart {\n",
              "    background-color: var(--bg-color);\n",
              "    border: none;\n",
              "    border-radius: 50%;\n",
              "    cursor: pointer;\n",
              "    display: none;\n",
              "    fill: var(--fill-color);\n",
              "    height: 32px;\n",
              "    padding: 0;\n",
              "    width: 32px;\n",
              "  }\n",
              "\n",
              "  .colab-df-quickchart:hover {\n",
              "    background-color: var(--hover-bg-color);\n",
              "    box-shadow: 0 1px 2px rgba(60, 64, 67, 0.3), 0 1px 3px 1px rgba(60, 64, 67, 0.15);\n",
              "    fill: var(--button-hover-fill-color);\n",
              "  }\n",
              "\n",
              "  .colab-df-quickchart-complete:disabled,\n",
              "  .colab-df-quickchart-complete:disabled:hover {\n",
              "    background-color: var(--disabled-bg-color);\n",
              "    fill: var(--disabled-fill-color);\n",
              "    box-shadow: none;\n",
              "  }\n",
              "\n",
              "  .colab-df-spinner {\n",
              "    border: 2px solid var(--fill-color);\n",
              "    border-color: transparent;\n",
              "    border-bottom-color: var(--fill-color);\n",
              "    animation:\n",
              "      spin 1s steps(1) infinite;\n",
              "  }\n",
              "\n",
              "  @keyframes spin {\n",
              "    0% {\n",
              "      border-color: transparent;\n",
              "      border-bottom-color: var(--fill-color);\n",
              "      border-left-color: var(--fill-color);\n",
              "    }\n",
              "    20% {\n",
              "      border-color: transparent;\n",
              "      border-left-color: var(--fill-color);\n",
              "      border-top-color: var(--fill-color);\n",
              "    }\n",
              "    30% {\n",
              "      border-color: transparent;\n",
              "      border-left-color: var(--fill-color);\n",
              "      border-top-color: var(--fill-color);\n",
              "      border-right-color: var(--fill-color);\n",
              "    }\n",
              "    40% {\n",
              "      border-color: transparent;\n",
              "      border-right-color: var(--fill-color);\n",
              "      border-top-color: var(--fill-color);\n",
              "    }\n",
              "    60% {\n",
              "      border-color: transparent;\n",
              "      border-right-color: var(--fill-color);\n",
              "    }\n",
              "    80% {\n",
              "      border-color: transparent;\n",
              "      border-right-color: var(--fill-color);\n",
              "      border-bottom-color: var(--fill-color);\n",
              "    }\n",
              "    90% {\n",
              "      border-color: transparent;\n",
              "      border-bottom-color: var(--fill-color);\n",
              "    }\n",
              "  }\n",
              "</style>\n",
              "\n",
              "  <script>\n",
              "    async function quickchart(key) {\n",
              "      const quickchartButtonEl =\n",
              "        document.querySelector('#' + key + ' button');\n",
              "      quickchartButtonEl.disabled = true;  // To prevent multiple clicks.\n",
              "      quickchartButtonEl.classList.add('colab-df-spinner');\n",
              "      try {\n",
              "        const charts = await google.colab.kernel.invokeFunction(\n",
              "            'suggestCharts', [key], {});\n",
              "      } catch (error) {\n",
              "        console.error('Error during call to suggestCharts:', error);\n",
              "      }\n",
              "      quickchartButtonEl.classList.remove('colab-df-spinner');\n",
              "      quickchartButtonEl.classList.add('colab-df-quickchart-complete');\n",
              "    }\n",
              "    (() => {\n",
              "      let quickchartButtonEl =\n",
              "        document.querySelector('#df-8470f215-8502-4336-9339-0fbc708af344 button');\n",
              "      quickchartButtonEl.style.display =\n",
              "        google.colab.kernel.accessAllowed ? 'block' : 'none';\n",
              "    })();\n",
              "  </script>\n",
              "</div>\n",
              "\n",
              "    </div>\n",
              "  </div>\n"
            ],
            "text/plain": [
              "        Unnamed: 0                                          English  \\\n",
              "395047      395047  [you, don, t, need, to, go, in, such, a, hurry]   \n",
              "34500        34500                            [i, never, knew, tom]   \n",
              "247292      247292             [are, you, sure, you, re, not, busy]   \n",
              "269531      269531            [he, had, to, work, even, on, sunday]   \n",
              "353024      353024       [tom, leaves, his, tv, on, all, day, long]   \n",
              "\n",
              "                                                Russian  \n",
              "395047            [вам, не, нужно, так, поспешно, идти]  \n",
              "34500           [я, никогда, не, был, знаком, с, томом]  \n",
              "247292                [ты, уверена,  , что, не, занята]  \n",
              "269531  [ему, пришлось, работать, даже, в, воскресенье]  \n",
              "353024     [том, целый, день, не, выключает, телевизор]  "
            ]
          },
          "execution_count": 22,
          "metadata": {},
          "output_type": "execute_result"
        }
      ],
      "source": [
        "train_df.head()"
      ]
    },
    {
      "cell_type": "code",
      "execution_count": null,
      "metadata": {
        "colab": {
          "base_uri": "https://localhost:8080/"
        },
        "id": "SCfM16rrxBDh",
        "outputId": "b9daab02-ab62-4cd1-cb46-3de3de84eaea"
      },
      "outputs": [
        {
          "data": {
            "text/plain": [
              "[(tensor([   29,     6,    62,    34, 11069,   157]),\n",
              "  tensor([  5,  18,   8,  70,   7,  44,  19, 400,  11, 493])),\n",
              " (tensor([  5,  66,   6,  31, 653,  16,  58]), tensor([  4,  85, 136,   6])),\n",
              " (tensor([ 11, 485,   4,   8,   6, 827]),\n",
              "  tensor([ 33,   5, 127,   5,  42,  41, 243])),\n",
              " (tensor([  98,  367,  288,  215,   10, 1269]),\n",
              "  tensor([ 21,  76,   7, 126, 241,  45, 999])),\n",
              " (tensor([    7,  1782,   107,     6, 33717,   380]),\n",
              "  tensor([   6, 1084,   49,  396,   45,   64,  144,  156]))]"
            ]
          },
          "execution_count": 23,
          "metadata": {},
          "output_type": "execute_result"
        }
      ],
      "source": [
        "train_data[:5]"
      ]
    },
    {
      "cell_type": "code",
      "execution_count": null,
      "metadata": {
        "id": "03SlSB8v6kkT"
      },
      "outputs": [],
      "source": [
        "BATCH_SIZE = 128\n",
        "PAD_IDX = en_vocab['<pad>']\n",
        "BOS_IDX = en_vocab['<bos>']\n",
        "EOS_IDX = en_vocab['<eos>']"
      ]
    },
    {
      "cell_type": "code",
      "execution_count": null,
      "metadata": {
        "id": "OJ1OLTdd6swV"
      },
      "outputs": [],
      "source": [
        "def generate_batch(data_batch):\n",
        "  ru_batch, en_batch = [], []\n",
        "  for (ru_item, en_item) in data_batch:\n",
        "    ru_batch.append(torch.cat([torch.tensor([BOS_IDX]), ru_item, torch.tensor([EOS_IDX])], dim=0))\n",
        "    en_batch.append(torch.cat([torch.tensor([BOS_IDX]), en_item, torch.tensor([EOS_IDX])], dim=0))\n",
        "  ru_batch = pad_sequence(ru_batch, padding_value=PAD_IDX)\n",
        "  en_batch = pad_sequence(en_batch, padding_value=PAD_IDX)\n",
        "  return ru_batch, en_batch # (T, batch_size) output"
      ]
    },
    {
      "cell_type": "code",
      "execution_count": null,
      "metadata": {
        "id": "JZ3C7rPl69Py"
      },
      "outputs": [],
      "source": [
        "train_iter = DataLoader(train_data, batch_size=BATCH_SIZE,\n",
        "                        shuffle=True, collate_fn=generate_batch)\n",
        "valid_iter = DataLoader(val_data, batch_size=BATCH_SIZE,\n",
        "                        shuffle=True, collate_fn=generate_batch)"
      ]
    },
    {
      "cell_type": "code",
      "execution_count": null,
      "metadata": {
        "id": "YZ9zbaporrql"
      },
      "outputs": [],
      "source": [
        "class Encoder(nn.Module):\n",
        "\n",
        "  def __init__(self, input_dim, hidden_size, embedding_size, num_layers=2, dropout=0.3):\n",
        "\n",
        "    super(Encoder, self).__init__()\n",
        "\n",
        "    # Basic network params\n",
        "    self.hidden_size = hidden_size\n",
        "    self.embedding_size = embedding_size\n",
        "    self.num_layers = num_layers\n",
        "    self.dropout = dropout\n",
        "\n",
        "    # Embedding layer that will be shared with Decoder\n",
        "    self.embedding = nn.Embedding(input_dim, embedding_size)\n",
        "    # GRU layer\n",
        "    self.gru = nn.GRU(embedding_size, hidden_size,\n",
        "                      num_layers=num_layers,\n",
        "                      dropout=dropout)\n",
        "\n",
        "  def forward(self, input_sequence):\n",
        "\n",
        "    # Convert input_sequence to word embeddings\n",
        "    embedded = self.embedding(input_sequence)\n",
        "\n",
        "    outputs, hidden = self.gru(embedded)\n",
        "\n",
        "    # The ouput of a GRU has shape -> (seq_len, batch, hidden_size)\n",
        "    return outputs, hidden"
      ]
    },
    {
      "cell_type": "code",
      "execution_count": null,
      "metadata": {
        "id": "Ccy6jfbGuDfa"
      },
      "outputs": [],
      "source": [
        "class Attention(nn.Module):\n",
        "  def __init__(self, hidden_size):\n",
        "    super(Attention, self).__init__()\n",
        "    self.hidden_size = hidden_size\n",
        "\n",
        "\n",
        "  def dot_score(self, hidden_state, encoder_states):\n",
        "    return torch.sum(hidden_state * encoder_states, dim=2)\n",
        "\n",
        "\n",
        "  def forward(self, hidden, encoder_outputs, mask):\n",
        "    # print(f\"mask shape = {mask.shape}\")\n",
        "    attn_scores = self.dot_score(hidden, encoder_outputs)\n",
        "\n",
        "    # Transpose max_length and batch_size dimensions\n",
        "    attn_scores = attn_scores.t()\n",
        "\n",
        "    # Apply mask so network does not attend <pad> tokens\n",
        "    attn_scores = attn_scores.masked_fill(mask == 0, -1e5)\n",
        "\n",
        "    # Return softmax over attention scores\n",
        "    return F.softmax(attn_scores, dim=1).unsqueeze(1)"
      ]
    },
    {
      "cell_type": "code",
      "execution_count": null,
      "metadata": {
        "id": "R5pB4bPKudyV"
      },
      "outputs": [],
      "source": [
        "class Decoder(nn.Module):\n",
        "  def __init__(self, embedding_size, hidden_size, output_size, n_layers=2, dropout=0.3):\n",
        "\n",
        "    super(Decoder, self).__init__()\n",
        "\n",
        "    # Basic network params\n",
        "    self.hidden_size = hidden_size\n",
        "    self.output_size = output_size\n",
        "    self.n_layers = n_layers\n",
        "    self.dropout = dropout\n",
        "    self.embedding = nn.Embedding(output_size, embedding_size)\n",
        "\n",
        "    self.gru = nn.GRU(embedding_size, hidden_size, n_layers,\n",
        "                      dropout=dropout)\n",
        "\n",
        "    self.concat = nn.Linear(hidden_size * 2, hidden_size)\n",
        "    self.out = nn.Linear(hidden_size, output_size)\n",
        "    self.attn = Attention(hidden_size)\n",
        "\n",
        "  def forward(self, current_token, hidden_state, encoder_outputs, mask):\n",
        "\n",
        "    # convert current_token to word_embedding\n",
        "    embedded = self.embedding(current_token)\n",
        "\n",
        "    # Pass through GRU\n",
        "    gru_output, hidden_state = self.gru(embedded, hidden_state)\n",
        "    # print(f\"decoder gru output shape = {gru_output.shape}\")\n",
        "    # print(f\"encoder output shape for attention = {encoder_outputs.shape}\")\n",
        "\n",
        "    # Calculate attention weights\n",
        "    attention_weights = self.attn(gru_output, encoder_outputs, mask)\n",
        "\n",
        "    # Calculate context vector (weigthed average)\n",
        "    context = attention_weights.bmm(encoder_outputs.transpose(0, 1))\n",
        "\n",
        "    # Concatenate  context vector and GRU output\n",
        "    gru_output = gru_output.squeeze(0)\n",
        "    context = context.squeeze(1)\n",
        "    concat_input = torch.cat((gru_output, context), 1)\n",
        "    concat_output = torch.tanh(self.concat(concat_input))\n",
        "\n",
        "    # Pass concat_output to final output layer\n",
        "    output = self.out(concat_output)\n",
        "\n",
        "    # Return output and final hidden state\n",
        "    return output, hidden_state, attention_weights"
      ]
    },
    {
      "cell_type": "code",
      "execution_count": null,
      "metadata": {
        "id": "CS34vP-V3HPK"
      },
      "outputs": [],
      "source": [
        "class Seq2Seq(nn.Module):\n",
        "    def __init__(self, encoder: nn.Module, decoder: nn.Module, device: torch.device):\n",
        "        super().__init__()\n",
        "        self.encoder = encoder\n",
        "        self.decoder = decoder\n",
        "        self.device = device\n",
        "\n",
        "    def create_mask(self, input_sequence):\n",
        "      return (input_sequence != PAD_IDX).permute(1, 0)\n",
        "\n",
        "    def forward(self, src, trg=None, teacher_forcing_ratio=0.5):\n",
        "        batch_size = src.shape[1]\n",
        "        encoder_outputs, hidden = self.encoder(src)\n",
        "\n",
        "        if trg is None:\n",
        "            max_len = 50  # Define max_len for inference if trg is not provided\n",
        "            sos_token_index = BOS_IDX\n",
        "            trg = torch.full((max_len, batch_size), sos_token_index, dtype=torch.long, device=self.device)\n",
        "        else:\n",
        "            max_len = trg.shape[0]  # Use provided trg to determine sequence length\n",
        "\n",
        "        trg_vocab_size = self.decoder.output_size\n",
        "        outputs = torch.zeros(max_len, batch_size, trg_vocab_size, device=self.device)\n",
        "        attentions = torch.zeros(max_len, batch_size, src.shape[0], device=self.device)\n",
        "\n",
        "        # First input to the decoder is the <sos> token\n",
        "        input = trg[0, :]\n",
        "        mask = self.create_mask(src)\n",
        "\n",
        "        for t in range(1, max_len):\n",
        "            input = input.unsqueeze(0)\n",
        "            output, hidden, attn = self.decoder(input, hidden, encoder_outputs, mask)\n",
        "            # print(output.shape)\n",
        "            # print(hidden.shape)\n",
        "            # print(attn.shape)\n",
        "            outputs[t] = output\n",
        "            attentions[t] = attn.squeeze(1)\n",
        "            teacher_force = random.random() < teacher_forcing_ratio\n",
        "            top1 = output.argmax(1)\n",
        "            input = trg[t] if (teacher_force and t < trg.shape[0]) else top1\n",
        "\n",
        "        return outputs, attentions"
      ]
    },
    {
      "cell_type": "code",
      "execution_count": null,
      "metadata": {
        "colab": {
          "base_uri": "https://localhost:8080/"
        },
        "id": "6-pG2jRJ8mDm",
        "outputId": "271b1f80-b033-4a45-b691-47fd645b6f2d"
      },
      "outputs": [
        {
          "name": "stdout",
          "output_type": "stream",
          "text": [
            "The model has 7,615,851 trainable parameters\n"
          ]
        }
      ],
      "source": [
        "INPUT_DIM = len(ru_vocab)\n",
        "OUTPUT_DIM = len(en_vocab)\n",
        "\n",
        "ENC_EMB_DIM = 64\n",
        "DEC_EMB_DIM = 64\n",
        "ENC_HID_DIM = 128\n",
        "DEC_HID_DIM = 128\n",
        "ATTN_DIM = 64\n",
        "ENC_DROPOUT = 0.3\n",
        "DEC_DROPOUT = 0.3\n",
        "NUM_LAYERS = 2\n",
        "\n",
        "enc = Encoder(INPUT_DIM, ENC_HID_DIM, ENC_EMB_DIM, NUM_LAYERS, ENC_DROPOUT)\n",
        "\n",
        "# attn = Attention(ENC_HID_DIM)\n",
        "\n",
        "dec = Decoder(DEC_EMB_DIM, DEC_HID_DIM, OUTPUT_DIM, NUM_LAYERS, DEC_DROPOUT)\n",
        "\n",
        "model = Seq2Seq(enc, dec, device).to(device)\n",
        "\n",
        "\n",
        "def init_weights(m: nn.Module):\n",
        "    for name, param in m.named_parameters():\n",
        "        if 'weight' in name:\n",
        "            nn.init.normal_(param.data, mean=0, std=0.01)\n",
        "        else:\n",
        "            nn.init.constant_(param.data, 0)\n",
        "\n",
        "\n",
        "model.apply(init_weights)\n",
        "\n",
        "optimizer = optim.Adam(model.parameters())\n",
        "\n",
        "\n",
        "def count_parameters(model: nn.Module):\n",
        "    return sum(p.numel() for p in model.parameters() if p.requires_grad)\n",
        "\n",
        "\n",
        "print(f'The model has {count_parameters(model):,} trainable parameters')"
      ]
    },
    {
      "cell_type": "code",
      "execution_count": null,
      "metadata": {
        "id": "mRMhD1Tn8ycW"
      },
      "outputs": [],
      "source": [
        "PAD_IDX = en_vocab.get_stoi()['<pad>']\n",
        "\n",
        "criterion = nn.CrossEntropyLoss(ignore_index=PAD_IDX)"
      ]
    },
    {
      "cell_type": "code",
      "execution_count": null,
      "metadata": {
        "id": "4OL1upmzweFx"
      },
      "outputs": [],
      "source": [
        "def indices_to_words(indices, vocab):\n",
        "    # Convert indices to words using TorchText vocab\n",
        "    words = []\n",
        "    for idx in indices:\n",
        "        if(idx != PAD_IDX and idx != BOS_IDX and idx != EOS_IDX):\n",
        "          word = vocab.get_itos()[idx]\n",
        "          words.append(word)\n",
        "    return words\n",
        "\n",
        "def calculate_bleu(data_loader, model, device, vocab):\n",
        "    model.eval()\n",
        "    targets = []\n",
        "    predictions = []\n",
        "\n",
        "    with torch.no_grad():\n",
        "        for src, trg in tqdm(data_loader):\n",
        "            src, trg = src.to(device), trg.to(device)\n",
        "            output, attn = model(src, trg, 0)  # Assume model returns logits\n",
        "            output = output.argmax(-1)\n",
        "            # Transpose output to match (batch_size, T) format\n",
        "            output = output.transpose(0, 1)\n",
        "            trg = trg.transpose(0, 1)\n",
        "            predictions.extend(output.cpu().numpy().tolist())\n",
        "            targets.extend(trg.cpu().numpy().tolist())\n",
        "\n",
        "    # Convert indices to words\n",
        "    targets = [indices_to_words(t, vocab) for t in targets]\n",
        "    predictions = [indices_to_words(p, vocab) for p in predictions]\n",
        "\n",
        "    # Calculate BLEU score\n",
        "    bleu_score = corpus_bleu([[t] for t in targets], predictions)\n",
        "    return bleu_score"
      ]
    },
    {
      "cell_type": "code",
      "execution_count": null,
      "metadata": {
        "id": "2AJxMNEBrTI1"
      },
      "outputs": [],
      "source": [
        "# del model\n",
        "# import gc\n",
        "# gc.collect()\n",
        "# torch.cuda.empty_cache()"
      ]
    },
    {
      "cell_type": "code",
      "execution_count": null,
      "metadata": {
        "colab": {
          "base_uri": "https://localhost:8080/"
        },
        "id": "732xtW4789Gw",
        "outputId": "9f3cda84-d0c5-4fbb-d210-6d05c2e9bf01"
      },
      "outputs": [
        {
          "name": "stderr",
          "output_type": "stream",
          "text": [
            "3101it [04:06, 12.59it/s]\n",
            "776it [00:20, 38.71it/s]\n"
          ]
        },
        {
          "name": "stdout",
          "output_type": "stream",
          "text": [
            "Epoch: 01 | Time: 4m 26s\n",
            "\tTrain Loss: 5.587 | Train PPL: 266.881\n",
            "\t Val. Loss: 5.557 |  Val. PPL: 259.113\n"
          ]
        },
        {
          "name": "stderr",
          "output_type": "stream",
          "text": [
            "3101it [04:03, 12.74it/s]\n",
            "776it [00:20, 38.44it/s]\n"
          ]
        },
        {
          "name": "stdout",
          "output_type": "stream",
          "text": [
            "Epoch: 02 | Time: 4m 23s\n",
            "\tTrain Loss: 5.017 | Train PPL: 150.945\n",
            "\t Val. Loss: 4.290 |  Val. PPL:  72.940\n"
          ]
        },
        {
          "name": "stderr",
          "output_type": "stream",
          "text": [
            "3101it [04:03, 12.74it/s]\n",
            "776it [00:20, 37.72it/s]\n"
          ]
        },
        {
          "name": "stdout",
          "output_type": "stream",
          "text": [
            "Epoch: 03 | Time: 4m 24s\n",
            "\tTrain Loss: 3.377 | Train PPL:  29.291\n",
            "\t Val. Loss: 3.264 |  Val. PPL:  26.142\n"
          ]
        },
        {
          "name": "stderr",
          "output_type": "stream",
          "text": [
            "3101it [04:05, 12.66it/s]\n",
            "776it [00:20, 38.29it/s]\n"
          ]
        },
        {
          "name": "stdout",
          "output_type": "stream",
          "text": [
            "Epoch: 04 | Time: 4m 25s\n",
            "\tTrain Loss: 2.492 | Train PPL:  12.083\n",
            "\t Val. Loss: 2.695 |  Val. PPL:  14.800\n"
          ]
        },
        {
          "name": "stderr",
          "output_type": "stream",
          "text": [
            "3101it [04:06, 12.58it/s]\n",
            "776it [00:19, 38.96it/s]\n"
          ]
        },
        {
          "name": "stdout",
          "output_type": "stream",
          "text": [
            "Epoch: 05 | Time: 4m 26s\n",
            "\tTrain Loss: 2.023 | Train PPL:   7.559\n",
            "\t Val. Loss: 2.461 |  Val. PPL:  11.722\n"
          ]
        },
        {
          "name": "stderr",
          "output_type": "stream",
          "text": [
            "3101it [04:04, 12.71it/s]\n",
            "776it [00:19, 39.33it/s]\n"
          ]
        },
        {
          "name": "stdout",
          "output_type": "stream",
          "text": [
            "Epoch: 06 | Time: 4m 23s\n",
            "\tTrain Loss: 1.761 | Train PPL:   5.821\n",
            "\t Val. Loss: 2.329 |  Val. PPL:  10.271\n"
          ]
        },
        {
          "name": "stderr",
          "output_type": "stream",
          "text": [
            "3101it [04:03, 12.73it/s]\n",
            "776it [00:19, 38.90it/s]\n"
          ]
        },
        {
          "name": "stdout",
          "output_type": "stream",
          "text": [
            "Epoch: 07 | Time: 4m 23s\n",
            "\tTrain Loss: 1.591 | Train PPL:   4.908\n",
            "\t Val. Loss: 2.250 |  Val. PPL:   9.492\n"
          ]
        },
        {
          "name": "stderr",
          "output_type": "stream",
          "text": [
            "3101it [04:01, 12.84it/s]\n",
            "776it [00:19, 39.95it/s]\n"
          ]
        },
        {
          "name": "stdout",
          "output_type": "stream",
          "text": [
            "Epoch: 08 | Time: 4m 21s\n",
            "\tTrain Loss: 1.462 | Train PPL:   4.316\n",
            "\t Val. Loss: 2.154 |  Val. PPL:   8.617\n"
          ]
        },
        {
          "name": "stderr",
          "output_type": "stream",
          "text": [
            "3101it [04:02, 12.81it/s]\n",
            "776it [00:19, 39.90it/s]\n"
          ]
        },
        {
          "name": "stdout",
          "output_type": "stream",
          "text": [
            "Epoch: 09 | Time: 4m 21s\n",
            "\tTrain Loss: 1.371 | Train PPL:   3.941\n",
            "\t Val. Loss: 2.093 |  Val. PPL:   8.106\n"
          ]
        },
        {
          "name": "stderr",
          "output_type": "stream",
          "text": [
            "3101it [04:01, 12.84it/s]\n",
            "776it [00:19, 39.88it/s]\n"
          ]
        },
        {
          "name": "stdout",
          "output_type": "stream",
          "text": [
            "Epoch: 10 | Time: 4m 21s\n",
            "\tTrain Loss: 1.294 | Train PPL:   3.648\n",
            "\t Val. Loss: 2.055 |  Val. PPL:   7.804\n"
          ]
        },
        {
          "name": "stderr",
          "output_type": "stream",
          "text": [
            "3101it [04:01, 12.84it/s]\n",
            "776it [00:19, 38.84it/s]\n"
          ]
        },
        {
          "name": "stdout",
          "output_type": "stream",
          "text": [
            "Epoch: 11 | Time: 4m 21s\n",
            "\tTrain Loss: 1.231 | Train PPL:   3.426\n",
            "\t Val. Loss: 2.044 |  Val. PPL:   7.724\n"
          ]
        },
        {
          "name": "stderr",
          "output_type": "stream",
          "text": [
            "3101it [04:02, 12.81it/s]\n",
            "776it [00:19, 39.76it/s]\n"
          ]
        },
        {
          "name": "stdout",
          "output_type": "stream",
          "text": [
            "Epoch: 12 | Time: 4m 21s\n",
            "\tTrain Loss: 1.177 | Train PPL:   3.243\n",
            "\t Val. Loss: 2.021 |  Val. PPL:   7.548\n"
          ]
        },
        {
          "name": "stderr",
          "output_type": "stream",
          "text": [
            "3101it [04:01, 12.85it/s]\n",
            "776it [00:19, 40.05it/s]\n"
          ]
        },
        {
          "name": "stdout",
          "output_type": "stream",
          "text": [
            "Epoch: 13 | Time: 4m 20s\n",
            "\tTrain Loss: 1.129 | Train PPL:   3.093\n",
            "\t Val. Loss: 2.025 |  Val. PPL:   7.573\n"
          ]
        },
        {
          "name": "stderr",
          "output_type": "stream",
          "text": [
            "3101it [04:01, 12.86it/s]\n",
            "776it [00:19, 39.57it/s]\n"
          ]
        },
        {
          "name": "stdout",
          "output_type": "stream",
          "text": [
            "Epoch: 14 | Time: 4m 20s\n",
            "\tTrain Loss: 1.098 | Train PPL:   2.999\n",
            "\t Val. Loss: 2.011 |  Val. PPL:   7.473\n"
          ]
        },
        {
          "name": "stderr",
          "output_type": "stream",
          "text": [
            "3101it [04:02, 12.80it/s]\n",
            "776it [00:19, 39.80it/s]\n"
          ]
        },
        {
          "name": "stdout",
          "output_type": "stream",
          "text": [
            "Epoch: 15 | Time: 4m 21s\n",
            "\tTrain Loss: 1.063 | Train PPL:   2.895\n",
            "\t Val. Loss: 1.965 |  Val. PPL:   7.132\n"
          ]
        },
        {
          "name": "stderr",
          "output_type": "stream",
          "text": [
            "3101it [04:01, 12.85it/s]\n",
            "776it [00:19, 39.90it/s]\n"
          ]
        },
        {
          "name": "stdout",
          "output_type": "stream",
          "text": [
            "Epoch: 16 | Time: 4m 20s\n",
            "\tTrain Loss: 1.034 | Train PPL:   2.811\n",
            "\t Val. Loss: 1.958 |  Val. PPL:   7.087\n"
          ]
        },
        {
          "name": "stderr",
          "output_type": "stream",
          "text": [
            "3101it [04:02, 12.80it/s]\n",
            "776it [00:19, 39.94it/s]\n"
          ]
        },
        {
          "name": "stdout",
          "output_type": "stream",
          "text": [
            "Epoch: 17 | Time: 4m 21s\n",
            "\tTrain Loss: 1.003 | Train PPL:   2.726\n",
            "\t Val. Loss: 1.974 |  Val. PPL:   7.200\n"
          ]
        },
        {
          "name": "stderr",
          "output_type": "stream",
          "text": [
            "3101it [04:02, 12.80it/s]\n",
            "776it [00:19, 39.94it/s]\n"
          ]
        },
        {
          "name": "stdout",
          "output_type": "stream",
          "text": [
            "Epoch: 18 | Time: 4m 21s\n",
            "\tTrain Loss: 0.979 | Train PPL:   2.662\n",
            "\t Val. Loss: 1.961 |  Val. PPL:   7.104\n"
          ]
        },
        {
          "name": "stderr",
          "output_type": "stream",
          "text": [
            "3101it [04:02, 12.81it/s]\n",
            "776it [00:19, 39.60it/s]\n"
          ]
        },
        {
          "name": "stdout",
          "output_type": "stream",
          "text": [
            "Epoch: 19 | Time: 4m 21s\n",
            "\tTrain Loss: 0.956 | Train PPL:   2.602\n",
            "\t Val. Loss: 1.955 |  Val. PPL:   7.067\n"
          ]
        },
        {
          "name": "stderr",
          "output_type": "stream",
          "text": [
            "3101it [04:01, 12.83it/s]\n",
            "776it [00:19, 39.66it/s]"
          ]
        },
        {
          "name": "stdout",
          "output_type": "stream",
          "text": [
            "Epoch: 20 | Time: 4m 21s\n",
            "\tTrain Loss: 0.942 | Train PPL:   2.566\n",
            "\t Val. Loss: 1.940 |  Val. PPL:   6.960\n"
          ]
        },
        {
          "name": "stderr",
          "output_type": "stream",
          "text": [
            "\n"
          ]
        }
      ],
      "source": [
        "def train(model: nn.Module,\n",
        "          iterator: torch.utils.data.DataLoader,\n",
        "          optimizer: optim.Optimizer,\n",
        "          criterion: nn.Module,\n",
        "          clip: float):\n",
        "\n",
        "    model.train()\n",
        "\n",
        "    epoch_loss = 0\n",
        "    for _, (src, trg) in tqdm(enumerate(iterator)):\n",
        "        src, trg = src.to(device), trg.to(device)\n",
        "        optimizer.zero_grad()\n",
        "\n",
        "        output, attn = model(src, trg)\n",
        "\n",
        "        output = output[1:].view(-1, output.shape[-1])\n",
        "        trg = trg[1:].view(-1)\n",
        "\n",
        "        loss = criterion(output, trg)\n",
        "\n",
        "        loss.backward()\n",
        "\n",
        "        torch.nn.utils.clip_grad_norm_(model.parameters(), clip)\n",
        "\n",
        "        optimizer.step()\n",
        "\n",
        "        epoch_loss += loss.item()\n",
        "\n",
        "    return epoch_loss / len(iterator)\n",
        "\n",
        "\n",
        "def evaluate(model: nn.Module,\n",
        "             iterator: torch.utils.data.DataLoader,\n",
        "             criterion: nn.Module):\n",
        "\n",
        "    model.eval()\n",
        "\n",
        "    epoch_loss = 0\n",
        "    example_outputs = []\n",
        "\n",
        "    with torch.no_grad():\n",
        "\n",
        "        for _, (src, trg) in tqdm(enumerate(iterator)):\n",
        "            src, trg = src.to(device), trg.to(device)\n",
        "\n",
        "            output, attn = model(src, trg, 0) #turn off teacher forcing\n",
        "\n",
        "            output = output[1:].view(-1, output.shape[-1])\n",
        "            trg = trg[1:].view(-1)\n",
        "\n",
        "            loss = criterion(output, trg)\n",
        "\n",
        "            epoch_loss += loss.item()\n",
        "\n",
        "            # Print example outputs and their corresponding targets\n",
        "    for pred, target in example_outputs:\n",
        "        print(\"Predicted:\", pred)\n",
        "        print(\"Target:\", target)\n",
        "\n",
        "    return epoch_loss / len(iterator)\n",
        "\n",
        "\n",
        "def epoch_time(start_time: int,\n",
        "               end_time: int):\n",
        "    elapsed_time = end_time - start_time\n",
        "    elapsed_mins = int(elapsed_time / 60)\n",
        "    elapsed_secs = int(elapsed_time - (elapsed_mins * 60))\n",
        "    return elapsed_mins, elapsed_secs\n",
        "\n",
        "\n",
        "N_EPOCHS = 20\n",
        "CLIP = 1\n",
        "\n",
        "best_valid_loss = float('inf')\n",
        "\n",
        "train_losses = []\n",
        "val_losses = []\n",
        "best_loss = 100000\n",
        "\n",
        "for epoch in range(N_EPOCHS):\n",
        "\n",
        "    start_time = time.time()\n",
        "\n",
        "    train_loss = train(model, train_iter, optimizer, criterion, CLIP)\n",
        "    valid_loss = evaluate(model, valid_iter, criterion)\n",
        "    # valid_bleu = calculate_bleu(valid_iter, model, device, ru_vocab)  # Make sure device is defined\n",
        "\n",
        "    if valid_loss < best_loss:\n",
        "        best_loss = valid_loss\n",
        "        torch.save(model, \"/content/gdrive/MyDrive/Russian_English_model_2layer_GRU.pt\")\n",
        "\n",
        "    train_losses.append(train_loss)\n",
        "    val_losses.append(valid_loss)\n",
        "\n",
        "    end_time = time.time()\n",
        "\n",
        "    epoch_mins, epoch_secs = epoch_time(start_time, end_time)\n",
        "\n",
        "    print(f'Epoch: {epoch+1:02} | Time: {epoch_mins}m {epoch_secs}s')\n",
        "    print(f'\\tTrain Loss: {train_loss:.3f} | Train PPL: {math.exp(train_loss):7.3f}')\n",
        "    print(f'\\t Val. Loss: {valid_loss:.3f} |  Val. PPL: {math.exp(valid_loss):7.3f}')\n",
        "    # print(f'\\t Val. BLEU: {valid_bleu:.2f}')"
      ]
    },
    {
      "cell_type": "code",
      "execution_count": null,
      "metadata": {
        "colab": {
          "base_uri": "https://localhost:8080/",
          "height": 490
        },
        "id": "aAXwA_ex9C2n",
        "outputId": "e994837b-61bf-4a91-dabe-53f642d24b24"
      },
      "outputs": [
        {
          "data": {
            "text/plain": [
              "Text(0, 0.5, 'loss')"
            ]
          },
          "execution_count": 36,
          "metadata": {},
          "output_type": "execute_result"
        },
        {
          "data": {
            "image/png": "[encoded data removed]",
            "text/plain": [
              "<Figure size 640x480 with 1 Axes>"
            ]
          },
          "metadata": {},
          "output_type": "display_data"
        }
      ],
      "source": [
        "eps = [i for i in range(N_EPOCHS)]\n",
        "plt.plot(eps, train_losses)\n",
        "plt.title(f\"Train loss curve\")\n",
        "plt.xlabel(\"epochs\")\n",
        "plt.ylabel(\"loss\")"
      ]
    },
    {
      "cell_type": "code",
      "execution_count": null,
      "metadata": {
        "id": "IAdo4QyhG74S"
      },
      "outputs": [],
      "source": [
        "#russian to english translation and attention map\n",
        "def get_translation_and_attention_frame(sentence, model, rus_tokenizer, eng_vocab, russian_vocab):\n",
        "  model.eval()\n",
        "  tokenized_sen = [tok.text for tok in rus_tokenizer.tokenizer(sentence)]\n",
        "  ru_tensor_ = torch.tensor([russian_vocab[token] if token in russian_vocab else russian_vocab['<unk>'] for token in tokenized_sen], dtype=torch.long)\n",
        "  input = torch.cat([torch.tensor([BOS_IDX]), ru_tensor_, torch.tensor([EOS_IDX])], dim=0).to(device)\n",
        "\n",
        "  input = input.unsqueeze(-1)\n",
        "  output, attn = model(input)\n",
        "  translation_tensor = torch.argmax(output.squeeze(1), -1)\n",
        "  translation = [eng_vocab.get_itos()[t] for t in translation_tensor]\n",
        "\n",
        "  translation = translation[1:]\n",
        "  attn = attn.squeeze(1)[1:, :]\n",
        "  first_eos_token = 0\n",
        "  for c, i in enumerate(translation):\n",
        "    if(i == \"<eos>\"):\n",
        "      first_eos_token = c\n",
        "      break\n",
        "  translation = translation[:first_eos_token+1]\n",
        "  attn_frames = attn[:first_eos_token+1, 1:]\n",
        "  frame = pd.DataFrame(attn_frames.detach().cpu().numpy())\n",
        "  frame.columns = tokenized_sen + [\"<eos>\"]\n",
        "  frame.index = translation\n",
        "\n",
        "  return translation, frame"
      ]
    },
    {
      "cell_type": "code",
      "execution_count": null,
      "metadata": {
        "id": "QfSkgPUiRJMV"
      },
      "outputs": [],
      "source": [
        "def plot_attention(attention_frame):\n",
        "  sns.heatmap(attention_frame, cmap=\"bone\", vmin=0, vmax=1)\n",
        "  plt.yticks(rotation=0)\n",
        "  plt.gca().xaxis.tick_top()\n",
        "  plt.gca().xaxis.set_label_position(\"top\")\n",
        "  plt.xticks(rotation=45)\n",
        "\n",
        "  return plt.gcf()"
      ]
    },
    {
      "cell_type": "code",
      "execution_count": null,
      "metadata": {
        "id": "uxN6WhjeJyWp"
      },
      "outputs": [],
      "source": [
        "translation, attn_frame = get_translation_and_attention_frame(\"мне было всего 3 года в 2013 году\", model, rus_tokenizer, en_vocab, ru_vocab)"
      ]
    },
    {
      "cell_type": "code",
      "execution_count": null,
      "metadata": {
        "colab": {
          "base_uri": "https://localhost:8080/"
        },
        "id": "u01BuV0wRHAE",
        "outputId": "88bfd5f6-c299-411c-c18d-dcf2ae73144d"
      },
      "outputs": [
        {
          "name": "stdout",
          "output_type": "stream",
          "text": [
            "['i', 'was', 'only', 'three', 'three', 'years', 'in', '2013', '<eos>']\n"
          ]
        }
      ],
      "source": [
        "print(translation)"
      ]
    },
    {
      "cell_type": "code",
      "execution_count": null,
      "metadata": {
        "colab": {
          "base_uri": "https://localhost:8080/",
          "height": 331
        },
        "id": "3boFdGV5RnGF",
        "outputId": "179058f3-faf4-4a74-da01-bdf436611edb"
      },
      "outputs": [
        {
          "data": {
            "application/vnd.google.colaboratory.intrinsic+json": {
              "summary": "{\n  \"name\": \"attn_frame\",\n  \"rows\": 9,\n  \"fields\": [\n    {\n      \"column\": \"\\u043c\\u043d\\u0435\",\n      \"properties\": {\n        \"dtype\": \"float32\",\n        \"num_unique_values\": 9,\n        \"samples\": [\n          2.2523907318827696e-05,\n          9.248201240552589e-05,\n          6.406884494936094e-05\n        ],\n        \"semantic_type\": \"\",\n        \"description\": \"\"\n      }\n    },\n    {\n      \"column\": \"\\u0431\\u044b\\u043b\\u043e\",\n      \"properties\": {\n        \"dtype\": \"float32\",\n        \"num_unique_values\": 9,\n        \"samples\": [\n          0.00302008050493896,\n          0.06988919526338577,\n          0.003989018965512514\n        ],\n        \"semantic_type\": \"\",\n        \"description\": \"\"\n      }\n    },\n    {\n      \"column\": \"\\u0432\\u0441\\u0435\\u0433\\u043e\",\n      \"properties\": {\n        \"dtype\": \"float32\",\n        \"num_unique_values\": 9,\n        \"samples\": [\n          0.0018922787858173251,\n          0.5135455131530762,\n          0.0028413820546120405\n        ],\n        \"semantic_type\": \"\",\n        \"description\": \"\"\n      }\n    },\n    {\n      \"column\": \"3\",\n      \"properties\": {\n        \"dtype\": \"float32\",\n        \"num_unique_values\": 9,\n        \"samples\": [\n          0.0004680911952164024,\n          0.37957730889320374,\n          0.004325422924011946\n        ],\n        \"semantic_type\": \"\",\n        \"description\": \"\"\n      }\n    },\n    {\n      \"column\": \"\\u0433\\u043e\\u0434\\u0430\",\n      \"properties\": {\n        \"dtype\": \"float32\",\n        \"num_unique_values\": 9,\n        \"samples\": [\n          0.002852232428267598,\n          0.025685016065835953,\n          0.06441938132047653\n        ],\n        \"semantic_type\": \"\",\n        \"description\": \"\"\n      }\n    },\n    {\n      \"column\": \"\\u0432\",\n      \"properties\": {\n        \"dtype\": \"float32\",\n        \"num_unique_values\": 9,\n        \"samples\": [\n          0.019125064834952354,\n          0.005594262853264809,\n          0.2261335849761963\n        ],\n        \"semantic_type\": \"\",\n        \"description\": \"\"\n      }\n    },\n    {\n      \"column\": \"2013\",\n      \"properties\": {\n        \"dtype\": \"float32\",\n        \"num_unique_values\": 9,\n        \"samples\": [\n          0.07387528568506241,\n          0.0030388631857931614,\n          0.24806195497512817\n        ],\n        \"semantic_type\": \"\",\n        \"description\": \"\"\n      }\n    },\n    {\n      \"column\": \"\\u0433\\u043e\\u0434\\u0443\",\n      \"properties\": {\n        \"dtype\": \"float32\",\n        \"num_unique_values\": 9,\n        \"samples\": [\n          0.3065298795700073,\n          0.0012052045203745365,\n          0.21682888269424438\n        ],\n        \"semantic_type\": \"\",\n        \"description\": \"\"\n      }\n    },\n    {\n      \"column\": \"<eos>\",\n      \"properties\": {\n        \"dtype\": \"float32\",\n        \"num_unique_values\": 9,\n        \"samples\": [\n          0.5922014713287354,\n          0.0013706899480894208,\n          0.23332196474075317\n        ],\n        \"semantic_type\": \"\",\n        \"description\": \"\"\n      }\n    }\n  ]\n}",
              "type": "dataframe",
              "variable_name": "attn_frame"
            },
            "text/html": [
              "\n",
              "  <div id=\"df-9e721392-c323-49b6-bf05-c1f711f1b5c7\" class=\"colab-df-container\">\n",
              "    <div>\n",
              "<style scoped>\n",
              "    .dataframe tbody tr th:only-of-type {\n",
              "        vertical-align: middle;\n",
              "    }\n",
              "\n",
              "    .dataframe tbody tr th {\n",
              "        vertical-align: top;\n",
              "    }\n",
              "\n",
              "    .dataframe thead th {\n",
              "        text-align: right;\n",
              "    }\n",
              "</style>\n",
              "<table border=\"1\" class=\"dataframe\">\n",
              "  <thead>\n",
              "    <tr style=\"text-align: right;\">\n",
              "      <th></th>\n",
              "      <th>мне</th>\n",
              "      <th>было</th>\n",
              "      <th>всего</th>\n",
              "      <th>3</th>\n",
              "      <th>года</th>\n",
              "      <th>в</th>\n",
              "      <th>2013</th>\n",
              "      <th>году</th>\n",
              "      <th>&lt;eos&gt;</th>\n",
              "    </tr>\n",
              "  </thead>\n",
              "  <tbody>\n",
              "    <tr>\n",
              "      <th>i</th>\n",
              "      <td>0.000006</td>\n",
              "      <td>0.238672</td>\n",
              "      <td>0.625794</td>\n",
              "      <td>0.119800</td>\n",
              "      <td>0.006144</td>\n",
              "      <td>0.002449</td>\n",
              "      <td>0.002881</td>\n",
              "      <td>0.002090</td>\n",
              "      <td>0.002164</td>\n",
              "    </tr>\n",
              "    <tr>\n",
              "      <th>was</th>\n",
              "      <td>0.000092</td>\n",
              "      <td>0.069889</td>\n",
              "      <td>0.513546</td>\n",
              "      <td>0.379577</td>\n",
              "      <td>0.025685</td>\n",
              "      <td>0.005594</td>\n",
              "      <td>0.003039</td>\n",
              "      <td>0.001205</td>\n",
              "      <td>0.001371</td>\n",
              "    </tr>\n",
              "    <tr>\n",
              "      <th>only</th>\n",
              "      <td>0.000084</td>\n",
              "      <td>0.015336</td>\n",
              "      <td>0.122872</td>\n",
              "      <td>0.579101</td>\n",
              "      <td>0.237741</td>\n",
              "      <td>0.031826</td>\n",
              "      <td>0.008973</td>\n",
              "      <td>0.002416</td>\n",
              "      <td>0.001642</td>\n",
              "    </tr>\n",
              "    <tr>\n",
              "      <th>three</th>\n",
              "      <td>0.000165</td>\n",
              "      <td>0.018357</td>\n",
              "      <td>0.044777</td>\n",
              "      <td>0.239762</td>\n",
              "      <td>0.523564</td>\n",
              "      <td>0.121978</td>\n",
              "      <td>0.034503</td>\n",
              "      <td>0.010903</td>\n",
              "      <td>0.005969</td>\n",
              "    </tr>\n",
              "    <tr>\n",
              "      <th>three</th>\n",
              "      <td>0.000195</td>\n",
              "      <td>0.014005</td>\n",
              "      <td>0.019332</td>\n",
              "      <td>0.057308</td>\n",
              "      <td>0.360631</td>\n",
              "      <td>0.267821</td>\n",
              "      <td>0.153583</td>\n",
              "      <td>0.078619</td>\n",
              "      <td>0.048467</td>\n",
              "    </tr>\n",
              "    <tr>\n",
              "      <th>years</th>\n",
              "      <td>0.000064</td>\n",
              "      <td>0.003989</td>\n",
              "      <td>0.002841</td>\n",
              "      <td>0.004325</td>\n",
              "      <td>0.064419</td>\n",
              "      <td>0.226134</td>\n",
              "      <td>0.248062</td>\n",
              "      <td>0.216829</td>\n",
              "      <td>0.233322</td>\n",
              "    </tr>\n",
              "    <tr>\n",
              "      <th>in</th>\n",
              "      <td>0.000071</td>\n",
              "      <td>0.002877</td>\n",
              "      <td>0.001764</td>\n",
              "      <td>0.002191</td>\n",
              "      <td>0.012597</td>\n",
              "      <td>0.048997</td>\n",
              "      <td>0.115253</td>\n",
              "      <td>0.313535</td>\n",
              "      <td>0.502701</td>\n",
              "    </tr>\n",
              "    <tr>\n",
              "      <th>2013</th>\n",
              "      <td>0.000023</td>\n",
              "      <td>0.003020</td>\n",
              "      <td>0.001892</td>\n",
              "      <td>0.000468</td>\n",
              "      <td>0.002852</td>\n",
              "      <td>0.019125</td>\n",
              "      <td>0.073875</td>\n",
              "      <td>0.306530</td>\n",
              "      <td>0.592201</td>\n",
              "    </tr>\n",
              "    <tr>\n",
              "      <th>&lt;eos&gt;</th>\n",
              "      <td>0.000002</td>\n",
              "      <td>0.000584</td>\n",
              "      <td>0.000747</td>\n",
              "      <td>0.000190</td>\n",
              "      <td>0.001387</td>\n",
              "      <td>0.013596</td>\n",
              "      <td>0.064417</td>\n",
              "      <td>0.288709</td>\n",
              "      <td>0.630365</td>\n",
              "    </tr>\n",
              "  </tbody>\n",
              "</table>\n",
              "</div>\n",
              "    <div class=\"colab-df-buttons\">\n",
              "\n",
              "  <div class=\"colab-df-container\">\n",
              "    <button class=\"colab-df-convert\" onclick=\"convertToInteractive('df-9e721392-c323-49b6-bf05-c1f711f1b5c7')\"\n",
              "            title=\"Convert this dataframe to an interactive table.\"\n",
              "            style=\"display:none;\">\n",
              "\n",
              "  <svg xmlns=\"http://www.w3.org/2000/svg\" height=\"24px\" viewBox=\"0 -960 960 960\">\n",
              "    <path d=\"M120-120v-720h720v720H120Zm60-500h600v-160H180v160Zm220 220h160v-160H400v160Zm0 220h160v-160H400v160ZM180-400h160v-160H180v160Zm440 0h160v-160H620v160ZM180-180h160v-160H180v160Zm440 0h160v-160H620v160Z\"/>\n",
              "  </svg>\n",
              "    </button>\n",
              "\n",
              "  <style>\n",
              "    .colab-df-container {\n",
              "      display:flex;\n",
              "      gap: 12px;\n",
              "    }\n",
              "\n",
              "    .colab-df-convert {\n",
              "      background-color: #E8F0FE;\n",
              "      border: none;\n",
              "      border-radius: 50%;\n",
              "      cursor: pointer;\n",
              "      display: none;\n",
              "      fill: #1967D2;\n",
              "      height: 32px;\n",
              "      padding: 0 0 0 0;\n",
              "      width: 32px;\n",
              "    }\n",
              "\n",
              "    .colab-df-convert:hover {\n",
              "      background-color: #E2EBFA;\n",
              "      box-shadow: 0px 1px 2px rgba(60, 64, 67, 0.3), 0px 1px 3px 1px rgba(60, 64, 67, 0.15);\n",
              "      fill: #174EA6;\n",
              "    }\n",
              "\n",
              "    .colab-df-buttons div {\n",
              "      margin-bottom: 4px;\n",
              "    }\n",
              "\n",
              "    [theme=dark] .colab-df-convert {\n",
              "      background-color: #3B4455;\n",
              "      fill: #D2E3FC;\n",
              "    }\n",
              "\n",
              "    [theme=dark] .colab-df-convert:hover {\n",
              "      background-color: #434B5C;\n",
              "      box-shadow: 0px 1px 3px 1px rgba(0, 0, 0, 0.15);\n",
              "      filter: drop-shadow(0px 1px 2px rgba(0, 0, 0, 0.3));\n",
              "      fill: #FFFFFF;\n",
              "    }\n",
              "  </style>\n",
              "\n",
              "    <script>\n",
              "      const buttonEl =\n",
              "        document.querySelector('#df-9e721392-c323-49b6-bf05-c1f711f1b5c7 button.colab-df-convert');\n",
              "      buttonEl.style.display =\n",
              "        google.colab.kernel.accessAllowed ? 'block' : 'none';\n",
              "\n",
              "      async function convertToInteractive(key) {\n",
              "        const element = document.querySelector('#df-9e721392-c323-49b6-bf05-c1f711f1b5c7');\n",
              "        const dataTable =\n",
              "          await google.colab.kernel.invokeFunction('convertToInteractive',\n",
              "                                                    [key], {});\n",
              "        if (!dataTable) return;\n",
              "\n",
              "        const docLinkHtml = 'Like what you see? Visit the ' +\n",
              "          '<a target=\"_blank\" href=https://colab.research.google.com/notebooks/data_table.ipynb>data table notebook</a>'\n",
              "          + ' to learn more about interactive tables.';\n",
              "        element.innerHTML = '';\n",
              "        dataTable['output_type'] = 'display_data';\n",
              "        await google.colab.output.renderOutput(dataTable, element);\n",
              "        const docLink = document.createElement('div');\n",
              "        docLink.innerHTML = docLinkHtml;\n",
              "        element.appendChild(docLink);\n",
              "      }\n",
              "    </script>\n",
              "  </div>\n",
              "\n",
              "\n",
              "<div id=\"df-5287652a-911c-4059-a4c4-93be00debfab\">\n",
              "  <button class=\"colab-df-quickchart\" onclick=\"quickchart('df-5287652a-911c-4059-a4c4-93be00debfab')\"\n",
              "            title=\"Suggest charts\"\n",
              "            style=\"display:none;\">\n",
              "\n",
              "<svg xmlns=\"http://www.w3.org/2000/svg\" height=\"24px\"viewBox=\"0 0 24 24\"\n",
              "     width=\"24px\">\n",
              "    <g>\n",
              "        <path d=\"M19 3H5c-1.1 0-2 .9-2 2v14c0 1.1.9 2 2 2h14c1.1 0 2-.9 2-2V5c0-1.1-.9-2-2-2zM9 17H7v-7h2v7zm4 0h-2V7h2v10zm4 0h-2v-4h2v4z\"/>\n",
              "    </g>\n",
              "</svg>\n",
              "  </button>\n",
              "\n",
              "<style>\n",
              "  .colab-df-quickchart {\n",
              "      --bg-color: #E8F0FE;\n",
              "      --fill-color: #1967D2;\n",
              "      --hover-bg-color: #E2EBFA;\n",
              "      --hover-fill-color: #174EA6;\n",
              "      --disabled-fill-color: #AAA;\n",
              "      --disabled-bg-color: #DDD;\n",
              "  }\n",
              "\n",
              "  [theme=dark] .colab-df-quickchart {\n",
              "      --bg-color: #3B4455;\n",
              "      --fill-color: #D2E3FC;\n",
              "      --hover-bg-color: #434B5C;\n",
              "      --hover-fill-color: #FFFFFF;\n",
              "      --disabled-bg-color: #3B4455;\n",
              "      --disabled-fill-color: #666;\n",
              "  }\n",
              "\n",
              "  .colab-df-quickchart {\n",
              "    background-color: var(--bg-color);\n",
              "    border: none;\n",
              "    border-radius: 50%;\n",
              "    cursor: pointer;\n",
              "    display: none;\n",
              "    fill: var(--fill-color);\n",
              "    height: 32px;\n",
              "    padding: 0;\n",
              "    width: 32px;\n",
              "  }\n",
              "\n",
              "  .colab-df-quickchart:hover {\n",
              "    background-color: var(--hover-bg-color);\n",
              "    box-shadow: 0 1px 2px rgba(60, 64, 67, 0.3), 0 1px 3px 1px rgba(60, 64, 67, 0.15);\n",
              "    fill: var(--button-hover-fill-color);\n",
              "  }\n",
              "\n",
              "  .colab-df-quickchart-complete:disabled,\n",
              "  .colab-df-quickchart-complete:disabled:hover {\n",
              "    background-color: var(--disabled-bg-color);\n",
              "    fill: var(--disabled-fill-color);\n",
              "    box-shadow: none;\n",
              "  }\n",
              "\n",
              "  .colab-df-spinner {\n",
              "    border: 2px solid var(--fill-color);\n",
              "    border-color: transparent;\n",
              "    border-bottom-color: var(--fill-color);\n",
              "    animation:\n",
              "      spin 1s steps(1) infinite;\n",
              "  }\n",
              "\n",
              "  @keyframes spin {\n",
              "    0% {\n",
              "      border-color: transparent;\n",
              "      border-bottom-color: var(--fill-color);\n",
              "      border-left-color: var(--fill-color);\n",
              "    }\n",
              "    20% {\n",
              "      border-color: transparent;\n",
              "      border-left-color: var(--fill-color);\n",
              "      border-top-color: var(--fill-color);\n",
              "    }\n",
              "    30% {\n",
              "      border-color: transparent;\n",
              "      border-left-color: var(--fill-color);\n",
              "      border-top-color: var(--fill-color);\n",
              "      border-right-color: var(--fill-color);\n",
              "    }\n",
              "    40% {\n",
              "      border-color: transparent;\n",
              "      border-right-color: var(--fill-color);\n",
              "      border-top-color: var(--fill-color);\n",
              "    }\n",
              "    60% {\n",
              "      border-color: transparent;\n",
              "      border-right-color: var(--fill-color);\n",
              "    }\n",
              "    80% {\n",
              "      border-color: transparent;\n",
              "      border-right-color: var(--fill-color);\n",
              "      border-bottom-color: var(--fill-color);\n",
              "    }\n",
              "    90% {\n",
              "      border-color: transparent;\n",
              "      border-bottom-color: var(--fill-color);\n",
              "    }\n",
              "  }\n",
              "</style>\n",
              "\n",
              "  <script>\n",
              "    async function quickchart(key) {\n",
              "      const quickchartButtonEl =\n",
              "        document.querySelector('#' + key + ' button');\n",
              "      quickchartButtonEl.disabled = true;  // To prevent multiple clicks.\n",
              "      quickchartButtonEl.classList.add('colab-df-spinner');\n",
              "      try {\n",
              "        const charts = await google.colab.kernel.invokeFunction(\n",
              "            'suggestCharts', [key], {});\n",
              "      } catch (error) {\n",
              "        console.error('Error during call to suggestCharts:', error);\n",
              "      }\n",
              "      quickchartButtonEl.classList.remove('colab-df-spinner');\n",
              "      quickchartButtonEl.classList.add('colab-df-quickchart-complete');\n",
              "    }\n",
              "    (() => {\n",
              "      let quickchartButtonEl =\n",
              "        document.querySelector('#df-5287652a-911c-4059-a4c4-93be00debfab button');\n",
              "      quickchartButtonEl.style.display =\n",
              "        google.colab.kernel.accessAllowed ? 'block' : 'none';\n",
              "    })();\n",
              "  </script>\n",
              "</div>\n",
              "\n",
              "  <div id=\"id_e4f69300-e960-458f-a0b6-05f22ce86699\">\n",
              "    <style>\n",
              "      .colab-df-generate {\n",
              "        background-color: #E8F0FE;\n",
              "        border: none;\n",
              "        border-radius: 50%;\n",
              "        cursor: pointer;\n",
              "        display: none;\n",
              "        fill: #1967D2;\n",
              "        height: 32px;\n",
              "        padding: 0 0 0 0;\n",
              "        width: 32px;\n",
              "      }\n",
              "\n",
              "      .colab-df-generate:hover {\n",
              "        background-color: #E2EBFA;\n",
              "        box-shadow: 0px 1px 2px rgba(60, 64, 67, 0.3), 0px 1px 3px 1px rgba(60, 64, 67, 0.15);\n",
              "        fill: #174EA6;\n",
              "      }\n",
              "\n",
              "      [theme=dark] .colab-df-generate {\n",
              "        background-color: #3B4455;\n",
              "        fill: #D2E3FC;\n",
              "      }\n",
              "\n",
              "      [theme=dark] .colab-df-generate:hover {\n",
              "        background-color: #434B5C;\n",
              "        box-shadow: 0px 1px 3px 1px rgba(0, 0, 0, 0.15);\n",
              "        filter: drop-shadow(0px 1px 2px rgba(0, 0, 0, 0.3));\n",
              "        fill: #FFFFFF;\n",
              "      }\n",
              "    </style>\n",
              "    <button class=\"colab-df-generate\" onclick=\"generateWithVariable('attn_frame')\"\n",
              "            title=\"Generate code using this dataframe.\"\n",
              "            style=\"display:none;\">\n",
              "\n",
              "  <svg xmlns=\"http://www.w3.org/2000/svg\" height=\"24px\"viewBox=\"0 0 24 24\"\n",
              "       width=\"24px\">\n",
              "    <path d=\"M7,19H8.4L18.45,9,17,7.55,7,17.6ZM5,21V16.75L18.45,3.32a2,2,0,0,1,2.83,0l1.4,1.43a1.91,1.91,0,0,1,.58,1.4,1.91,1.91,0,0,1-.58,1.4L9.25,21ZM18.45,9,17,7.55Zm-12,3A5.31,5.31,0,0,0,4.9,8.1,5.31,5.31,0,0,0,1,6.5,5.31,5.31,0,0,0,4.9,4.9,5.31,5.31,0,0,0,6.5,1,5.31,5.31,0,0,0,8.1,4.9,5.31,5.31,0,0,0,12,6.5,5.46,5.46,0,0,0,6.5,12Z\"/>\n",
              "  </svg>\n",
              "    </button>\n",
              "    <script>\n",
              "      (() => {\n",
              "      const buttonEl =\n",
              "        document.querySelector('#id_e4f69300-e960-458f-a0b6-05f22ce86699 button.colab-df-generate');\n",
              "      buttonEl.style.display =\n",
              "        google.colab.kernel.accessAllowed ? 'block' : 'none';\n",
              "\n",
              "      buttonEl.onclick = () => {\n",
              "        google.colab.notebook.generateWithVariable('attn_frame');\n",
              "      }\n",
              "      })();\n",
              "    </script>\n",
              "  </div>\n",
              "\n",
              "    </div>\n",
              "  </div>\n"
            ],
            "text/plain": [
              "            мне      было     всего         3      года         в      2013  \\\n",
              "i      0.000006  0.238672  0.625794  0.119800  0.006144  0.002449  0.002881   \n",
              "was    0.000092  0.069889  0.513546  0.379577  0.025685  0.005594  0.003039   \n",
              "only   0.000084  0.015336  0.122872  0.579101  0.237741  0.031826  0.008973   \n",
              "three  0.000165  0.018357  0.044777  0.239762  0.523564  0.121978  0.034503   \n",
              "three  0.000195  0.014005  0.019332  0.057308  0.360631  0.267821  0.153583   \n",
              "years  0.000064  0.003989  0.002841  0.004325  0.064419  0.226134  0.248062   \n",
              "in     0.000071  0.002877  0.001764  0.002191  0.012597  0.048997  0.115253   \n",
              "2013   0.000023  0.003020  0.001892  0.000468  0.002852  0.019125  0.073875   \n",
              "<eos>  0.000002  0.000584  0.000747  0.000190  0.001387  0.013596  0.064417   \n",
              "\n",
              "           году     <eos>  \n",
              "i      0.002090  0.002164  \n",
              "was    0.001205  0.001371  \n",
              "only   0.002416  0.001642  \n",
              "three  0.010903  0.005969  \n",
              "three  0.078619  0.048467  \n",
              "years  0.216829  0.233322  \n",
              "in     0.313535  0.502701  \n",
              "2013   0.306530  0.592201  \n",
              "<eos>  0.288709  0.630365  "
            ]
          },
          "execution_count": 41,
          "metadata": {},
          "output_type": "execute_result"
        }
      ],
      "source": [
        "attn_frame"
      ]
    },
    {
      "cell_type": "code",
      "execution_count": null,
      "metadata": {
        "colab": {
          "base_uri": "https://localhost:8080/",
          "height": 486
        },
        "id": "m_ww4IQcSrfP",
        "outputId": "b9343934-9e66-4af2-c5ca-1e8d997c012a"
      },
      "outputs": [
        {
          "data": {
            "image/png": "[encoded data removed]",
            "text/plain": [
              "<Figure size 640x480 with 2 Axes>"
            ]
          },
          "metadata": {},
          "output_type": "display_data"
        }
      ],
      "source": [
        "attn_plot = plot_attention(attn_frame)\n",
        "attn_plot.tight_layout()\n",
        "attn_plot.show()"
      ]
    },
    {
      "cell_type": "code",
      "execution_count": null,
      "metadata": {
        "id": "Hcfo0uq4TbZa"
      },
      "outputs": [],
      "source": [
        "translation, attn_frame = get_translation_and_attention_frame(\"том целый день нe выключает телевизор\", model, rus_tokenizer, en_vocab, ru_vocab)"
      ]
    },
    {
      "cell_type": "code",
      "execution_count": null,
      "metadata": {
        "colab": {
          "base_uri": "https://localhost:8080/"
        },
        "id": "fQ9SRcQRTggg",
        "outputId": "fb8971d6-fc13-4fda-da55-05a51a6bfadf"
      },
      "outputs": [
        {
          "data": {
            "text/plain": [
              "['tom', 'is', 'his', 'tv', 'all', 'all', 'day', '<eos>']"
            ]
          },
          "execution_count": 53,
          "metadata": {},
          "output_type": "execute_result"
        }
      ],
      "source": [
        "translation"
      ]
    },
    {
      "cell_type": "code",
      "execution_count": null,
      "metadata": {
        "colab": {
          "base_uri": "https://localhost:8080/",
          "height": 487
        },
        "id": "toqByFbcTimJ",
        "outputId": "b9c77298-6271-462f-90fb-fe8e72d43d06"
      },
      "outputs": [
        {
          "data": {
            "image/png": "[encoded data removed]",
            "text/plain": [
              "<Figure size 640x480 with 2 Axes>"
            ]
          },
          "metadata": {},
          "output_type": "display_data"
        }
      ],
      "source": [
        "attn_plot = plot_attention(attn_frame)\n",
        "attn_plot.tight_layout()\n",
        "attn_plot.show()"
      ]
    },
    {
      "cell_type": "code",
      "execution_count": null,
      "metadata": {
        "id": "4wOnfmKeUAg2"
      },
      "outputs": [],
      "source": []
    }
  ],
  "metadata": {
    "accelerator": "GPU",
    "colab": {
      "gpuType": "T4",
      "machine_shape": "hm",
      "provenance": []
    },
    "kernelspec": {
      "display_name": "Python 3",
      "name": "python3"
    },
    "language_info": {
      "name": "python"
    }
  },
  "nbformat": 4,
  "nbformat_minor": 0
}
